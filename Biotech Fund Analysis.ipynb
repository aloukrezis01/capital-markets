{
 "cells": [
  {
   "cell_type": "markdown",
   "id": "484b7082-93b5-4a4d-a530-4c3c46c0a45d",
   "metadata": {},
   "source": [
    "# Biotech Fund Analysis"
   ]
  },
  {
   "cell_type": "code",
   "execution_count": 50,
   "id": "f6f6d0e9-eeb7-45a5-99ef-b2799818c08d",
   "metadata": {},
   "outputs": [
    {
     "name": "stdout",
     "output_type": "stream",
     "text": [
      "                          Stock Symbol Type  Shares Held  Market Value  \\\n",
      "0                    Seagen inc   SGEN  NaN   47269424.0  9.250154e+09   \n",
      "1               Beigene ltd adr   BGNE  NaN   13301597.0  3.810109e+09   \n",
      "2            Incyte corporation   INCY  NaN   31999398.0  2.871626e+09   \n",
      "3    Acadia pharmaceuticals inc   ACAD  NaN   41904586.0  1.728564e+09   \n",
      "4  Alexion pharmaceuticals inc.  ALXN1  NaN    8760794.0  1.002498e+09   \n",
      "\n",
      "   % of Portfolio  Previous % of Portfolio  Ranking  Change in shares  \\\n",
      "0         36.9623                  35.4286      1.0               0.0   \n",
      "1         15.2246                   9.7871      2.0         1524312.0   \n",
      "2         11.4746                  14.6749      3.0             317.0   \n",
      "3          6.9071                   8.9591      4.0               0.0   \n",
      "4          4.0058                   4.3373      5.0               0.0   \n",
      "\n",
      "    % Change Change Type  % Ownership Qtr first owned       sector  \\\n",
      "0   0.000000         NaN    26.407998         Q3 2004  HEALTH CARE   \n",
      "1  12.942813    addition    14.649759         Q1 2016  HEALTH CARE   \n",
      "2   0.000991    addition    14.611858         Q4 2001  HEALTH CARE   \n",
      "3   0.000000         NaN    26.358718         Q4 2010  HEALTH CARE   \n",
      "4   0.000000         NaN     4.003188         Q2 2015  HEALTH CARE   \n",
      "\n",
      "   source_type  source_date  Avg Price  \n",
      "0          NaN          NaN    32.0600  \n",
      "1          NaN          NaN   136.9307  \n",
      "2          NaN          NaN    71.7302  \n",
      "3          NaN          NaN    15.4600  \n",
      "4          NaN          NaN   162.4300  \n"
     ]
    }
   ],
   "source": [
    "import os\n",
    "import pandas as pd\n",
    "\n",
    "# Set the relative path to the 'Historical_Data_13F' folder\n",
    "directory = './Historical_Data_13F_Updated/biotech_funds'\n",
    "\n",
    "# List all CSV files in the 'Historical_Data_13F' directory\n",
    "csv_files = [file for file in os.listdir(directory) if file.endswith('.csv')]\n",
    "\n",
    "# Check if we have any CSV files to process\n",
    "if csv_files:\n",
    "    # Build the full file path for the first CSV file\n",
    "    first_csv_path = os.path.join(directory, csv_files[0])\n",
    "\n",
    "    # Load the first CSV file into a DataFrame\n",
    "    df = pd.read_csv(first_csv_path)\n",
    "\n",
    "    # Print the first few rows of the DataFrame\n",
    "    print(df.head())\n",
    "else:\n",
    "    print(\"No CSV files found in the directory.\")\n"
   ]
  },
  {
   "cell_type": "code",
   "execution_count": null,
   "id": "ec0d06a6-58b8-479d-9bab-1b117470ea60",
   "metadata": {},
   "outputs": [],
   "source": []
  },
  {
   "cell_type": "markdown",
   "id": "1c7855ed-88dd-4d4d-93cc-a47c269b75c9",
   "metadata": {},
   "source": [
    "## Transforming the Data"
   ]
  },
  {
   "cell_type": "code",
   "execution_count": 51,
   "id": "5cbaac03-2cdd-4c54-9997-fe5aeb081296",
   "metadata": {},
   "outputs": [
    {
     "name": "stdout",
     "output_type": "stream",
     "text": [
      "  Ticker  baker_bros-2020_q3  baker_bros-2020_q2  baker_bros-2020_q1  \\\n",
      "0   SGEN                   1                   1                   1   \n",
      "1   BGNE                   1                   1                   1   \n",
      "2   INCY                   1                   1                   1   \n",
      "3   ACAD                   1                   1                   1   \n",
      "4  ALXN1                   1                   1                   1   \n",
      "\n",
      "   baker_bros-2020_q4  orbimed-2019_q4  casdin-2021_q4  orbimed-2021_q1  \\\n",
      "0                   1                0               0                0   \n",
      "1                   1                0               1                0   \n",
      "2                   1                1               0                0   \n",
      "3                   1                1               0                1   \n",
      "4                   1                1               0                1   \n",
      "\n",
      "   perceptive-2021_q4  orbimed-2021_q3  ...  perceptive-2020_q4  \\\n",
      "0                   0                1  ...                   0   \n",
      "1                   0                0  ...                   0   \n",
      "2                   0                0  ...                   0   \n",
      "3                   1                0  ...                   0   \n",
      "4                   0                1  ...                   0   \n",
      "\n",
      "   orbimed-2020_q1  casdin-2020_q4  perceptive-2020_q1  orbimed-2020_q4  \\\n",
      "0                0               0                   0                0   \n",
      "1                0               1                   1                0   \n",
      "2                1               0                   0                0   \n",
      "3                1               0                   1                1   \n",
      "4                1               0                   0                1   \n",
      "\n",
      "   casdin-2020_q1  perceptive-2020_q2  casdin-2020_q2  casdin-2020_q3  \\\n",
      "0               0                   0               0               0   \n",
      "1               0                   0               1               1   \n",
      "2               0                   0               0               0   \n",
      "3               0                   0               0               0   \n",
      "4               0                   0               0               0   \n",
      "\n",
      "   perceptive-2020_q3  \n",
      "0                   0  \n",
      "1                   0  \n",
      "2                   0  \n",
      "3                   0  \n",
      "4                   0  \n",
      "\n",
      "[5 rows x 41 columns]\n"
     ]
    }
   ],
   "source": [
    "# Path to the directory containing CSV files\n",
    "directory = './Historical_Data_13F_Updated/biotech_funds'\n",
    "\n",
    "# Initialize an empty dictionary to store the ticker presence data\n",
    "ticker_presence = {}\n",
    "\n",
    "# Get all CSV files from the directory\n",
    "csv_files = [f for f in os.listdir(directory) if f.endswith('.csv')]\n",
    "\n",
    "# Iterate over the files and extract unique tickers\n",
    "for csv_file in csv_files:\n",
    "    # Strip the '.csv' extension for use as DataFrame column names\n",
    "    clean_file_name = csv_file.replace('.csv', '')\n",
    "\n",
    "    file_path = os.path.join(directory, csv_file)\n",
    "    df = pd.read_csv(file_path)\n",
    "    unique_tickers = df['Symbol'].unique()\n",
    "    \n",
    "    # Update the ticker presence for each file\n",
    "    for ticker in unique_tickers:\n",
    "        if ticker not in ticker_presence:\n",
    "            # Initialize a new entry in the dictionary with the cleaned file names\n",
    "            ticker_presence[ticker] = {clean_name: 0 for clean_name in [name.replace('.csv', '') for name in csv_files]}\n",
    "        # Mark the presence of the ticker in the current file\n",
    "        ticker_presence[ticker][clean_file_name] = 1\n",
    "\n",
    "# Create a DataFrame from the ticker presence dictionary\n",
    "one_hot_encoded_df = pd.DataFrame.from_dict(ticker_presence, orient='index')\n",
    "\n",
    "# Reset the index to get tickers as a column instead of an index\n",
    "one_hot_encoded_df.reset_index(inplace=True)\n",
    "one_hot_encoded_df.rename(columns={'index': 'Ticker'}, inplace=True)\n",
    "\n",
    "# Save the one_hot_encoded_df DataFrame to a CSV file\n",
    "one_hot_encoded_df.to_csv('biotech_hedge_fund_encoded_data.csv', index=False)\n",
    "\n",
    "# Print the first few rows of the one-hot encoded DataFrame to verify\n",
    "print(one_hot_encoded_df.head())\n"
   ]
  },
  {
   "cell_type": "code",
   "execution_count": null,
   "id": "ff9232c3-8d9b-412b-af07-faf087d67ec3",
   "metadata": {},
   "outputs": [],
   "source": []
  },
  {
   "cell_type": "markdown",
   "id": "bfd20454-17c9-4dd6-b14a-5f00ebd7f30b",
   "metadata": {},
   "source": [
    "## Exploratory Data Analysis"
   ]
  },
  {
   "cell_type": "code",
   "execution_count": 58,
   "id": "5f5b1b1e-cbfa-4493-b8d4-7ae2a195243f",
   "metadata": {},
   "outputs": [
    {
     "ename": "KeyError",
     "evalue": "'baker_bros-2020-q1'",
     "output_type": "error",
     "traceback": [
      "\u001b[0;31m---------------------------------------------------------------------------\u001b[0m",
      "\u001b[0;31mKeyError\u001b[0m                                  Traceback (most recent call last)",
      "File \u001b[0;32m/opt/anaconda3/envs/new_environment_01/lib/python3.8/site-packages/pandas/core/indexes/base.py:3653\u001b[0m, in \u001b[0;36mIndex.get_loc\u001b[0;34m(self, key)\u001b[0m\n\u001b[1;32m   3652\u001b[0m \u001b[38;5;28;01mtry\u001b[39;00m:\n\u001b[0;32m-> 3653\u001b[0m     \u001b[38;5;28;01mreturn\u001b[39;00m \u001b[38;5;28;43mself\u001b[39;49m\u001b[38;5;241;43m.\u001b[39;49m\u001b[43m_engine\u001b[49m\u001b[38;5;241;43m.\u001b[39;49m\u001b[43mget_loc\u001b[49m\u001b[43m(\u001b[49m\u001b[43mcasted_key\u001b[49m\u001b[43m)\u001b[49m\n\u001b[1;32m   3654\u001b[0m \u001b[38;5;28;01mexcept\u001b[39;00m \u001b[38;5;167;01mKeyError\u001b[39;00m \u001b[38;5;28;01mas\u001b[39;00m err:\n",
      "File \u001b[0;32m/opt/anaconda3/envs/new_environment_01/lib/python3.8/site-packages/pandas/_libs/index.pyx:147\u001b[0m, in \u001b[0;36mpandas._libs.index.IndexEngine.get_loc\u001b[0;34m()\u001b[0m\n",
      "File \u001b[0;32m/opt/anaconda3/envs/new_environment_01/lib/python3.8/site-packages/pandas/_libs/index.pyx:176\u001b[0m, in \u001b[0;36mpandas._libs.index.IndexEngine.get_loc\u001b[0;34m()\u001b[0m\n",
      "File \u001b[0;32mpandas/_libs/hashtable_class_helper.pxi:7080\u001b[0m, in \u001b[0;36mpandas._libs.hashtable.PyObjectHashTable.get_item\u001b[0;34m()\u001b[0m\n",
      "File \u001b[0;32mpandas/_libs/hashtable_class_helper.pxi:7088\u001b[0m, in \u001b[0;36mpandas._libs.hashtable.PyObjectHashTable.get_item\u001b[0;34m()\u001b[0m\n",
      "\u001b[0;31mKeyError\u001b[0m: 'baker_bros-2020-q1'",
      "\nThe above exception was the direct cause of the following exception:\n",
      "\u001b[0;31mKeyError\u001b[0m                                  Traceback (most recent call last)",
      "Cell \u001b[0;32mIn[58], line 15\u001b[0m\n\u001b[1;32m     12\u001b[0m \u001b[38;5;66;03m# Check if the stock is held by all funds in any of the quarters\u001b[39;00m\n\u001b[1;32m     13\u001b[0m \u001b[38;5;28;01mfor\u001b[39;00m fund \u001b[38;5;129;01min\u001b[39;00m [\u001b[38;5;124m'\u001b[39m\u001b[38;5;124mbaker_bros\u001b[39m\u001b[38;5;124m'\u001b[39m, \u001b[38;5;124m'\u001b[39m\u001b[38;5;124mcasdin_capital\u001b[39m\u001b[38;5;124m'\u001b[39m, \u001b[38;5;124m'\u001b[39m\u001b[38;5;124morbimed\u001b[39m\u001b[38;5;124m'\u001b[39m, \u001b[38;5;124m'\u001b[39m\u001b[38;5;124mperceptive\u001b[39m\u001b[38;5;124m'\u001b[39m]:\n\u001b[1;32m     14\u001b[0m     \u001b[38;5;66;03m# If the stock is not held by this fund in any quarter, set hold_by_all to False\u001b[39;00m\n\u001b[0;32m---> 15\u001b[0m     \u001b[38;5;28;01mif\u001b[39;00m \u001b[38;5;129;01mnot\u001b[39;00m \u001b[38;5;28;43many\u001b[39;49m\u001b[43m(\u001b[49m\u001b[43mrow\u001b[49m\u001b[43m[\u001b[49m\u001b[43mfund\u001b[49m\u001b[43m \u001b[49m\u001b[38;5;241;43m+\u001b[39;49m\u001b[43m \u001b[49m\u001b[38;5;124;43m'\u001b[39;49m\u001b[38;5;124;43m-\u001b[39;49m\u001b[38;5;124;43m'\u001b[39;49m\u001b[43m \u001b[49m\u001b[38;5;241;43m+\u001b[39;49m\u001b[43m \u001b[49m\u001b[38;5;28;43mstr\u001b[39;49m\u001b[43m(\u001b[49m\u001b[43myear\u001b[49m\u001b[43m)\u001b[49m\u001b[43m \u001b[49m\u001b[38;5;241;43m+\u001b[39;49m\u001b[43m \u001b[49m\u001b[38;5;124;43m'\u001b[39;49m\u001b[38;5;124;43m-\u001b[39;49m\u001b[38;5;124;43m'\u001b[39;49m\u001b[43m \u001b[49m\u001b[38;5;241;43m+\u001b[39;49m\u001b[43m \u001b[49m\u001b[43mquarter\u001b[49m\u001b[43m]\u001b[49m\u001b[43m \u001b[49m\u001b[38;5;241;43m==\u001b[39;49m\u001b[43m \u001b[49m\u001b[38;5;241;43m1\u001b[39;49m\u001b[43m \u001b[49m\u001b[38;5;28;43;01mfor\u001b[39;49;00m\u001b[43m \u001b[49m\u001b[43myear\u001b[49m\u001b[43m \u001b[49m\u001b[38;5;129;43;01min\u001b[39;49;00m\u001b[43m \u001b[49m\u001b[38;5;28;43mrange\u001b[39;49m\u001b[43m(\u001b[49m\u001b[38;5;241;43m2020\u001b[39;49m\u001b[43m,\u001b[49m\u001b[43m \u001b[49m\u001b[38;5;241;43m2021\u001b[39;49m\u001b[38;5;241;43m+\u001b[39;49m\u001b[38;5;241;43m1\u001b[39;49m\u001b[43m)\u001b[49m\u001b[43m \u001b[49m\u001b[38;5;28;43;01mfor\u001b[39;49;00m\u001b[43m \u001b[49m\u001b[43mquarter\u001b[49m\u001b[43m \u001b[49m\u001b[38;5;129;43;01min\u001b[39;49;00m\u001b[43m \u001b[49m\u001b[43m[\u001b[49m\u001b[38;5;124;43m'\u001b[39;49m\u001b[38;5;124;43mq1\u001b[39;49m\u001b[38;5;124;43m'\u001b[39;49m\u001b[43m,\u001b[49m\u001b[43m \u001b[49m\u001b[38;5;124;43m'\u001b[39;49m\u001b[38;5;124;43mq2\u001b[39;49m\u001b[38;5;124;43m'\u001b[39;49m\u001b[43m,\u001b[49m\u001b[43m \u001b[49m\u001b[38;5;124;43m'\u001b[39;49m\u001b[38;5;124;43mq3\u001b[39;49m\u001b[38;5;124;43m'\u001b[39;49m\u001b[43m,\u001b[49m\u001b[43m \u001b[49m\u001b[38;5;124;43m'\u001b[39;49m\u001b[38;5;124;43mq4\u001b[39;49m\u001b[38;5;124;43m'\u001b[39;49m\u001b[43m]\u001b[49m\u001b[43m)\u001b[49m:\n\u001b[1;32m     16\u001b[0m         hold_by_all \u001b[38;5;241m=\u001b[39m \u001b[38;5;28;01mFalse\u001b[39;00m\n\u001b[1;32m     17\u001b[0m         \u001b[38;5;28;01mbreak\u001b[39;00m\n",
      "Cell \u001b[0;32mIn[58], line 15\u001b[0m, in \u001b[0;36m<genexpr>\u001b[0;34m(.0)\u001b[0m\n\u001b[1;32m     12\u001b[0m \u001b[38;5;66;03m# Check if the stock is held by all funds in any of the quarters\u001b[39;00m\n\u001b[1;32m     13\u001b[0m \u001b[38;5;28;01mfor\u001b[39;00m fund \u001b[38;5;129;01min\u001b[39;00m [\u001b[38;5;124m'\u001b[39m\u001b[38;5;124mbaker_bros\u001b[39m\u001b[38;5;124m'\u001b[39m, \u001b[38;5;124m'\u001b[39m\u001b[38;5;124mcasdin_capital\u001b[39m\u001b[38;5;124m'\u001b[39m, \u001b[38;5;124m'\u001b[39m\u001b[38;5;124morbimed\u001b[39m\u001b[38;5;124m'\u001b[39m, \u001b[38;5;124m'\u001b[39m\u001b[38;5;124mperceptive\u001b[39m\u001b[38;5;124m'\u001b[39m]:\n\u001b[1;32m     14\u001b[0m     \u001b[38;5;66;03m# If the stock is not held by this fund in any quarter, set hold_by_all to False\u001b[39;00m\n\u001b[0;32m---> 15\u001b[0m     \u001b[38;5;28;01mif\u001b[39;00m \u001b[38;5;129;01mnot\u001b[39;00m \u001b[38;5;28many\u001b[39m(\u001b[43mrow\u001b[49m\u001b[43m[\u001b[49m\u001b[43mfund\u001b[49m\u001b[43m \u001b[49m\u001b[38;5;241;43m+\u001b[39;49m\u001b[43m \u001b[49m\u001b[38;5;124;43m'\u001b[39;49m\u001b[38;5;124;43m-\u001b[39;49m\u001b[38;5;124;43m'\u001b[39;49m\u001b[43m \u001b[49m\u001b[38;5;241;43m+\u001b[39;49m\u001b[43m \u001b[49m\u001b[38;5;28;43mstr\u001b[39;49m\u001b[43m(\u001b[49m\u001b[43myear\u001b[49m\u001b[43m)\u001b[49m\u001b[43m \u001b[49m\u001b[38;5;241;43m+\u001b[39;49m\u001b[43m \u001b[49m\u001b[38;5;124;43m'\u001b[39;49m\u001b[38;5;124;43m-\u001b[39;49m\u001b[38;5;124;43m'\u001b[39;49m\u001b[43m \u001b[49m\u001b[38;5;241;43m+\u001b[39;49m\u001b[43m \u001b[49m\u001b[43mquarter\u001b[49m\u001b[43m]\u001b[49m \u001b[38;5;241m==\u001b[39m \u001b[38;5;241m1\u001b[39m \u001b[38;5;28;01mfor\u001b[39;00m year \u001b[38;5;129;01min\u001b[39;00m \u001b[38;5;28mrange\u001b[39m(\u001b[38;5;241m2020\u001b[39m, \u001b[38;5;241m2021\u001b[39m\u001b[38;5;241m+\u001b[39m\u001b[38;5;241m1\u001b[39m) \u001b[38;5;28;01mfor\u001b[39;00m quarter \u001b[38;5;129;01min\u001b[39;00m [\u001b[38;5;124m'\u001b[39m\u001b[38;5;124mq1\u001b[39m\u001b[38;5;124m'\u001b[39m, \u001b[38;5;124m'\u001b[39m\u001b[38;5;124mq2\u001b[39m\u001b[38;5;124m'\u001b[39m, \u001b[38;5;124m'\u001b[39m\u001b[38;5;124mq3\u001b[39m\u001b[38;5;124m'\u001b[39m, \u001b[38;5;124m'\u001b[39m\u001b[38;5;124mq4\u001b[39m\u001b[38;5;124m'\u001b[39m]):\n\u001b[1;32m     16\u001b[0m         hold_by_all \u001b[38;5;241m=\u001b[39m \u001b[38;5;28;01mFalse\u001b[39;00m\n\u001b[1;32m     17\u001b[0m         \u001b[38;5;28;01mbreak\u001b[39;00m\n",
      "File \u001b[0;32m/opt/anaconda3/envs/new_environment_01/lib/python3.8/site-packages/pandas/core/series.py:1007\u001b[0m, in \u001b[0;36mSeries.__getitem__\u001b[0;34m(self, key)\u001b[0m\n\u001b[1;32m   1004\u001b[0m     \u001b[38;5;28;01mreturn\u001b[39;00m \u001b[38;5;28mself\u001b[39m\u001b[38;5;241m.\u001b[39m_values[key]\n\u001b[1;32m   1006\u001b[0m \u001b[38;5;28;01melif\u001b[39;00m key_is_scalar:\n\u001b[0;32m-> 1007\u001b[0m     \u001b[38;5;28;01mreturn\u001b[39;00m \u001b[38;5;28;43mself\u001b[39;49m\u001b[38;5;241;43m.\u001b[39;49m\u001b[43m_get_value\u001b[49m\u001b[43m(\u001b[49m\u001b[43mkey\u001b[49m\u001b[43m)\u001b[49m\n\u001b[1;32m   1009\u001b[0m \u001b[38;5;28;01mif\u001b[39;00m is_hashable(key):\n\u001b[1;32m   1010\u001b[0m     \u001b[38;5;66;03m# Otherwise index.get_value will raise InvalidIndexError\u001b[39;00m\n\u001b[1;32m   1011\u001b[0m     \u001b[38;5;28;01mtry\u001b[39;00m:\n\u001b[1;32m   1012\u001b[0m         \u001b[38;5;66;03m# For labels that don't resolve as scalars like tuples and frozensets\u001b[39;00m\n",
      "File \u001b[0;32m/opt/anaconda3/envs/new_environment_01/lib/python3.8/site-packages/pandas/core/series.py:1116\u001b[0m, in \u001b[0;36mSeries._get_value\u001b[0;34m(self, label, takeable)\u001b[0m\n\u001b[1;32m   1113\u001b[0m     \u001b[38;5;28;01mreturn\u001b[39;00m \u001b[38;5;28mself\u001b[39m\u001b[38;5;241m.\u001b[39m_values[label]\n\u001b[1;32m   1115\u001b[0m \u001b[38;5;66;03m# Similar to Index.get_value, but we do not fall back to positional\u001b[39;00m\n\u001b[0;32m-> 1116\u001b[0m loc \u001b[38;5;241m=\u001b[39m \u001b[38;5;28;43mself\u001b[39;49m\u001b[38;5;241;43m.\u001b[39;49m\u001b[43mindex\u001b[49m\u001b[38;5;241;43m.\u001b[39;49m\u001b[43mget_loc\u001b[49m\u001b[43m(\u001b[49m\u001b[43mlabel\u001b[49m\u001b[43m)\u001b[49m\n\u001b[1;32m   1118\u001b[0m \u001b[38;5;28;01mif\u001b[39;00m is_integer(loc):\n\u001b[1;32m   1119\u001b[0m     \u001b[38;5;28;01mreturn\u001b[39;00m \u001b[38;5;28mself\u001b[39m\u001b[38;5;241m.\u001b[39m_values[loc]\n",
      "File \u001b[0;32m/opt/anaconda3/envs/new_environment_01/lib/python3.8/site-packages/pandas/core/indexes/base.py:3655\u001b[0m, in \u001b[0;36mIndex.get_loc\u001b[0;34m(self, key)\u001b[0m\n\u001b[1;32m   3653\u001b[0m     \u001b[38;5;28;01mreturn\u001b[39;00m \u001b[38;5;28mself\u001b[39m\u001b[38;5;241m.\u001b[39m_engine\u001b[38;5;241m.\u001b[39mget_loc(casted_key)\n\u001b[1;32m   3654\u001b[0m \u001b[38;5;28;01mexcept\u001b[39;00m \u001b[38;5;167;01mKeyError\u001b[39;00m \u001b[38;5;28;01mas\u001b[39;00m err:\n\u001b[0;32m-> 3655\u001b[0m     \u001b[38;5;28;01mraise\u001b[39;00m \u001b[38;5;167;01mKeyError\u001b[39;00m(key) \u001b[38;5;28;01mfrom\u001b[39;00m \u001b[38;5;21;01merr\u001b[39;00m\n\u001b[1;32m   3656\u001b[0m \u001b[38;5;28;01mexcept\u001b[39;00m \u001b[38;5;167;01mTypeError\u001b[39;00m:\n\u001b[1;32m   3657\u001b[0m     \u001b[38;5;66;03m# If we have a listlike key, _check_indexing_error will raise\u001b[39;00m\n\u001b[1;32m   3658\u001b[0m     \u001b[38;5;66;03m#  InvalidIndexError. Otherwise we fall through and re-raise\u001b[39;00m\n\u001b[1;32m   3659\u001b[0m     \u001b[38;5;66;03m#  the TypeError.\u001b[39;00m\n\u001b[1;32m   3660\u001b[0m     \u001b[38;5;28mself\u001b[39m\u001b[38;5;241m.\u001b[39m_check_indexing_error(key)\n",
      "\u001b[0;31mKeyError\u001b[0m: 'baker_bros-2020-q1'"
     ]
    }
   ],
   "source": [
    "# df going forward is based on the most recent one hot encoded file\n",
    "df = one_hot_encoded_df\n",
    "\n",
    "# Initialize a list to keep track of stocks held by all funds\n",
    "stocks_held_by_all_funds = []\n",
    "\n",
    "# Iterate through each row of the DataFrame\n",
    "for index, row in df.iterrows():\n",
    "    # Assume that all funds hold the stock unless proven otherwise\n",
    "    hold_by_all = True\n",
    "    \n",
    "    # Check if the stock is held by all funds in any of the quarters\n",
    "    for fund in ['baker_bros', 'casdin_capital', 'orbimed', 'perceptive']:\n",
    "        # If the stock is not held by this fund in any quarter, set hold_by_all to False\n",
    "        if not any(row[fund + '-' + str(year) + '-' + quarter] == 1 for year in range(2020, 2021+1) for quarter in ['q1', 'q2', 'q3', 'q4']):\n",
    "            hold_by_all = False\n",
    "            break\n",
    "    \n",
    "    # If hold_by_all is still True, the stock is held by all funds\n",
    "    if hold_by_all:\n",
    "        stocks_held_by_all_funds.append(row['Ticker'])\n",
    "\n",
    "# Display the list of stocks held by all funds\n",
    "print(stocks_held_by_all_funds)\n"
   ]
  },
  {
   "cell_type": "code",
   "execution_count": null,
   "id": "a78b3ed3-3dca-45c4-abd2-3825596d37a1",
   "metadata": {},
   "outputs": [],
   "source": []
  },
  {
   "cell_type": "code",
   "execution_count": null,
   "id": "3fba3e88-136e-4215-8b4d-b4651333e80b",
   "metadata": {},
   "outputs": [],
   "source": []
  },
  {
   "cell_type": "code",
   "execution_count": null,
   "id": "ab57b880-8c74-4287-9023-192f61ce5628",
   "metadata": {},
   "outputs": [],
   "source": []
  },
  {
   "cell_type": "code",
   "execution_count": null,
   "id": "9ada2e91-6f11-438f-91ab-a11c28f4a3b2",
   "metadata": {},
   "outputs": [],
   "source": []
  },
  {
   "cell_type": "code",
   "execution_count": null,
   "id": "e92e5bd6-ea1b-42ba-af66-6c807c2eec38",
   "metadata": {},
   "outputs": [],
   "source": []
  },
  {
   "cell_type": "code",
   "execution_count": null,
   "id": "bc3967da-d4ee-4c09-bc08-c30986f427ad",
   "metadata": {},
   "outputs": [],
   "source": []
  },
  {
   "cell_type": "code",
   "execution_count": null,
   "id": "df1e4ce1-39f3-4c09-b40a-88af1c45c458",
   "metadata": {},
   "outputs": [],
   "source": []
  }
 ],
 "metadata": {
  "kernelspec": {
   "display_name": "Python 3 (ipykernel)",
   "language": "python",
   "name": "python3"
  },
  "language_info": {
   "codemirror_mode": {
    "name": "ipython",
    "version": 3
   },
   "file_extension": ".py",
   "mimetype": "text/x-python",
   "name": "python",
   "nbconvert_exporter": "python",
   "pygments_lexer": "ipython3",
   "version": "3.8.18"
  }
 },
 "nbformat": 4,
 "nbformat_minor": 5
}
