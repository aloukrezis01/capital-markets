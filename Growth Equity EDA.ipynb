{
 "cells": [
  {
   "cell_type": "code",
   "execution_count": 170,
   "id": "af3c3feb-d6c7-4e9e-845c-b9ca70a949c3",
   "metadata": {
    "tags": []
   },
   "outputs": [
    {
     "data": {
      "text/plain": [
       "<Figure size 640x480 with 0 Axes>"
      ]
     },
     "metadata": {},
     "output_type": "display_data"
    }
   ],
   "source": [
    "import pandas as pd\n",
    "import numpy as np\n",
    "import matplotlib.pyplot as plt\n",
    "import seaborn as sns\n",
    "\n",
    "import datetime\n",
    "from datetime import datetime\n",
    "from datetime import timedelta\n",
    "from dateutil import rrule\n",
    "import time\n",
    "\n",
    "import plotly.graph_objects as go\n",
    "\n",
    "plt.rcParams[\"font.family\"] = \"sans-serif\"\n",
    "\n",
    "custom_params = {\"axes.spines.right\": False, \"axes.spines.top\": False}\n",
    "sns.despine(left=True)"
   ]
  },
  {
   "cell_type": "markdown",
   "id": "77a6676d-c681-4dcf-9596-aa4bbdc139a9",
   "metadata": {},
   "source": [
    "### Equity Data Uploading"
   ]
  },
  {
   "cell_type": "code",
   "execution_count": 171,
   "id": "d9a17f56-0018-47b4-bb9f-4329684b776a",
   "metadata": {
    "tags": []
   },
   "outputs": [],
   "source": [
    "MSCI = pd.read_csv('Historical_Data_Prices_Cleaned/MSCI.csv')\n",
    "CMG = pd.read_csv('Historical_Data_Prices_Cleaned/CMG.csv')\n",
    "DPZ = pd.read_csv('Historical_Data_Prices_Cleaned/DPZ.csv')\n",
    "EL = pd.read_csv('Historical_Data_Prices_Cleaned/EL.csv')\n",
    "META = pd.read_csv('Historical_Data_Prices_Cleaned/META.csv')"
   ]
  },
  {
   "cell_type": "markdown",
   "id": "18d5d407-25e9-4e0d-8f31-2b550492f396",
   "metadata": {
    "tags": []
   },
   "source": [
    "#### Data Integrity Testing"
   ]
  },
  {
   "cell_type": "code",
   "execution_count": 172,
   "id": "fae4f5f8-fc4f-4f04-bcdf-c1b09a89c154",
   "metadata": {
    "tags": []
   },
   "outputs": [
    {
     "name": "stdout",
     "output_type": "stream",
     "text": [
      "<class 'pandas.core.frame.DataFrame'>\n",
      "RangeIndex: 4113 entries, 0 to 4112\n",
      "Data columns (total 8 columns):\n",
      " #   Column        Non-Null Count  Dtype  \n",
      "---  ------        --------------  -----  \n",
      " 0   Date          4113 non-null   object \n",
      " 1   Open          4113 non-null   float64\n",
      " 2   High          4113 non-null   float64\n",
      " 3   Low           4113 non-null   float64\n",
      " 4   Close         4113 non-null   float64\n",
      " 5   Volume        4113 non-null   int64  \n",
      " 6   Dividends     4113 non-null   float64\n",
      " 7   Stock Splits  4113 non-null   float64\n",
      "dtypes: float64(6), int64(1), object(1)\n",
      "memory usage: 257.2+ KB\n"
     ]
    }
   ],
   "source": [
    "MSCI.info()"
   ]
  },
  {
   "cell_type": "code",
   "execution_count": 173,
   "id": "b0382a29-1503-4e82-bbf5-4e6b282380f0",
   "metadata": {
    "tags": []
   },
   "outputs": [
    {
     "data": {
      "text/html": [
       "<div>\n",
       "<style scoped>\n",
       "    .dataframe tbody tr th:only-of-type {\n",
       "        vertical-align: middle;\n",
       "    }\n",
       "\n",
       "    .dataframe tbody tr th {\n",
       "        vertical-align: top;\n",
       "    }\n",
       "\n",
       "    .dataframe thead th {\n",
       "        text-align: right;\n",
       "    }\n",
       "</style>\n",
       "<table border=\"1\" class=\"dataframe\">\n",
       "  <thead>\n",
       "    <tr style=\"text-align: right;\">\n",
       "      <th></th>\n",
       "      <th>Date</th>\n",
       "      <th>Open</th>\n",
       "      <th>High</th>\n",
       "      <th>Low</th>\n",
       "      <th>Close</th>\n",
       "      <th>Volume</th>\n",
       "      <th>Dividends</th>\n",
       "      <th>Stock Splits</th>\n",
       "    </tr>\n",
       "  </thead>\n",
       "  <tbody>\n",
       "    <tr>\n",
       "      <th>0</th>\n",
       "      <td>2007-11-15</td>\n",
       "      <td>20.722917</td>\n",
       "      <td>25.633348</td>\n",
       "      <td>19.875980</td>\n",
       "      <td>23.516006</td>\n",
       "      <td>11770500</td>\n",
       "      <td>0.0</td>\n",
       "      <td>0.0</td>\n",
       "    </tr>\n",
       "    <tr>\n",
       "      <th>1</th>\n",
       "      <td>2007-11-16</td>\n",
       "      <td>23.407877</td>\n",
       "      <td>23.407877</td>\n",
       "      <td>21.263508</td>\n",
       "      <td>22.488861</td>\n",
       "      <td>1242900</td>\n",
       "      <td>0.0</td>\n",
       "      <td>0.0</td>\n",
       "    </tr>\n",
       "    <tr>\n",
       "      <th>2</th>\n",
       "      <td>2007-11-19</td>\n",
       "      <td>22.263618</td>\n",
       "      <td>23.200655</td>\n",
       "      <td>22.101440</td>\n",
       "      <td>23.200655</td>\n",
       "      <td>469500</td>\n",
       "      <td>0.0</td>\n",
       "      <td>0.0</td>\n",
       "    </tr>\n",
       "    <tr>\n",
       "      <th>3</th>\n",
       "      <td>2007-11-20</td>\n",
       "      <td>22.903321</td>\n",
       "      <td>26.318095</td>\n",
       "      <td>22.759162</td>\n",
       "      <td>24.615213</td>\n",
       "      <td>522200</td>\n",
       "      <td>0.0</td>\n",
       "      <td>0.0</td>\n",
       "    </tr>\n",
       "    <tr>\n",
       "      <th>4</th>\n",
       "      <td>2007-11-21</td>\n",
       "      <td>24.326906</td>\n",
       "      <td>24.444035</td>\n",
       "      <td>23.371850</td>\n",
       "      <td>24.011557</td>\n",
       "      <td>167500</td>\n",
       "      <td>0.0</td>\n",
       "      <td>0.0</td>\n",
       "    </tr>\n",
       "  </tbody>\n",
       "</table>\n",
       "</div>"
      ],
      "text/plain": [
       "         Date       Open       High        Low      Close    Volume  \\\n",
       "0  2007-11-15  20.722917  25.633348  19.875980  23.516006  11770500   \n",
       "1  2007-11-16  23.407877  23.407877  21.263508  22.488861   1242900   \n",
       "2  2007-11-19  22.263618  23.200655  22.101440  23.200655    469500   \n",
       "3  2007-11-20  22.903321  26.318095  22.759162  24.615213    522200   \n",
       "4  2007-11-21  24.326906  24.444035  23.371850  24.011557    167500   \n",
       "\n",
       "   Dividends  Stock Splits  \n",
       "0        0.0           0.0  \n",
       "1        0.0           0.0  \n",
       "2        0.0           0.0  \n",
       "3        0.0           0.0  \n",
       "4        0.0           0.0  "
      ]
     },
     "execution_count": 173,
     "metadata": {},
     "output_type": "execute_result"
    }
   ],
   "source": [
    "MSCI.head(5)"
   ]
  },
  {
   "cell_type": "code",
   "execution_count": null,
   "id": "5aa5c8bb-bb0b-4742-bdbe-6c34459781ae",
   "metadata": {},
   "outputs": [],
   "source": []
  },
  {
   "cell_type": "code",
   "execution_count": 174,
   "id": "35e85720-ec9e-4bfe-bd11-498ec1b63ad2",
   "metadata": {},
   "outputs": [],
   "source": [
    "MSCI['Date'] = pd.to_datetime(MSCI['Date'])\n",
    "CMG['Date'] = pd.to_datetime(CMG['Date'])\n",
    "DPZ['Date'] = pd.to_datetime(DPZ['Date'])\n",
    "EL['Date'] = pd.to_datetime(EL['Date'])\n",
    "META['Date'] = pd.to_datetime(META['Date'])"
   ]
  },
  {
   "cell_type": "code",
   "execution_count": 175,
   "id": "f21b5b6d-e4e1-473c-94dc-e18bf3191961",
   "metadata": {},
   "outputs": [
    {
     "data": {
      "text/html": [
       "<div>\n",
       "<style scoped>\n",
       "    .dataframe tbody tr th:only-of-type {\n",
       "        vertical-align: middle;\n",
       "    }\n",
       "\n",
       "    .dataframe tbody tr th {\n",
       "        vertical-align: top;\n",
       "    }\n",
       "\n",
       "    .dataframe thead th {\n",
       "        text-align: right;\n",
       "    }\n",
       "</style>\n",
       "<table border=\"1\" class=\"dataframe\">\n",
       "  <thead>\n",
       "    <tr style=\"text-align: right;\">\n",
       "      <th></th>\n",
       "      <th>Date</th>\n",
       "      <th>Open</th>\n",
       "      <th>High</th>\n",
       "      <th>Low</th>\n",
       "      <th>Close</th>\n",
       "      <th>Volume</th>\n",
       "      <th>Dividends</th>\n",
       "      <th>Stock Splits</th>\n",
       "    </tr>\n",
       "  </thead>\n",
       "  <tbody>\n",
       "    <tr>\n",
       "      <th>0</th>\n",
       "      <td>2007-11-15</td>\n",
       "      <td>20.722917</td>\n",
       "      <td>25.633348</td>\n",
       "      <td>19.875980</td>\n",
       "      <td>23.516006</td>\n",
       "      <td>11770500</td>\n",
       "      <td>0.0</td>\n",
       "      <td>0.0</td>\n",
       "    </tr>\n",
       "    <tr>\n",
       "      <th>1</th>\n",
       "      <td>2007-11-16</td>\n",
       "      <td>23.407877</td>\n",
       "      <td>23.407877</td>\n",
       "      <td>21.263508</td>\n",
       "      <td>22.488861</td>\n",
       "      <td>1242900</td>\n",
       "      <td>0.0</td>\n",
       "      <td>0.0</td>\n",
       "    </tr>\n",
       "    <tr>\n",
       "      <th>2</th>\n",
       "      <td>2007-11-19</td>\n",
       "      <td>22.263618</td>\n",
       "      <td>23.200655</td>\n",
       "      <td>22.101440</td>\n",
       "      <td>23.200655</td>\n",
       "      <td>469500</td>\n",
       "      <td>0.0</td>\n",
       "      <td>0.0</td>\n",
       "    </tr>\n",
       "    <tr>\n",
       "      <th>3</th>\n",
       "      <td>2007-11-20</td>\n",
       "      <td>22.903321</td>\n",
       "      <td>26.318095</td>\n",
       "      <td>22.759162</td>\n",
       "      <td>24.615213</td>\n",
       "      <td>522200</td>\n",
       "      <td>0.0</td>\n",
       "      <td>0.0</td>\n",
       "    </tr>\n",
       "    <tr>\n",
       "      <th>4</th>\n",
       "      <td>2007-11-21</td>\n",
       "      <td>24.326906</td>\n",
       "      <td>24.444035</td>\n",
       "      <td>23.371850</td>\n",
       "      <td>24.011557</td>\n",
       "      <td>167500</td>\n",
       "      <td>0.0</td>\n",
       "      <td>0.0</td>\n",
       "    </tr>\n",
       "  </tbody>\n",
       "</table>\n",
       "</div>"
      ],
      "text/plain": [
       "        Date       Open       High        Low      Close    Volume  Dividends  \\\n",
       "0 2007-11-15  20.722917  25.633348  19.875980  23.516006  11770500        0.0   \n",
       "1 2007-11-16  23.407877  23.407877  21.263508  22.488861   1242900        0.0   \n",
       "2 2007-11-19  22.263618  23.200655  22.101440  23.200655    469500        0.0   \n",
       "3 2007-11-20  22.903321  26.318095  22.759162  24.615213    522200        0.0   \n",
       "4 2007-11-21  24.326906  24.444035  23.371850  24.011557    167500        0.0   \n",
       "\n",
       "   Stock Splits  \n",
       "0           0.0  \n",
       "1           0.0  \n",
       "2           0.0  \n",
       "3           0.0  \n",
       "4           0.0  "
      ]
     },
     "execution_count": 175,
     "metadata": {},
     "output_type": "execute_result"
    }
   ],
   "source": [
    "MSCI.head(5)"
   ]
  },
  {
   "cell_type": "code",
   "execution_count": 176,
   "id": "fa340e07-07c3-4227-9922-653411b5b2aa",
   "metadata": {},
   "outputs": [
    {
     "name": "stdout",
     "output_type": "stream",
     "text": [
      "<class 'pandas.core.frame.DataFrame'>\n",
      "RangeIndex: 4113 entries, 0 to 4112\n",
      "Data columns (total 8 columns):\n",
      " #   Column        Non-Null Count  Dtype         \n",
      "---  ------        --------------  -----         \n",
      " 0   Date          4113 non-null   datetime64[ns]\n",
      " 1   Open          4113 non-null   float64       \n",
      " 2   High          4113 non-null   float64       \n",
      " 3   Low           4113 non-null   float64       \n",
      " 4   Close         4113 non-null   float64       \n",
      " 5   Volume        4113 non-null   int64         \n",
      " 6   Dividends     4113 non-null   float64       \n",
      " 7   Stock Splits  4113 non-null   float64       \n",
      "dtypes: datetime64[ns](1), float64(6), int64(1)\n",
      "memory usage: 257.2 KB\n"
     ]
    }
   ],
   "source": [
    "MSCI.info()"
   ]
  },
  {
   "cell_type": "code",
   "execution_count": 177,
   "id": "4fc95a83-877d-4b98-938b-d2222cb660cf",
   "metadata": {},
   "outputs": [
    {
     "data": {
      "text/html": [
       "<div>\n",
       "<style scoped>\n",
       "    .dataframe tbody tr th:only-of-type {\n",
       "        vertical-align: middle;\n",
       "    }\n",
       "\n",
       "    .dataframe tbody tr th {\n",
       "        vertical-align: top;\n",
       "    }\n",
       "\n",
       "    .dataframe thead th {\n",
       "        text-align: right;\n",
       "    }\n",
       "</style>\n",
       "<table border=\"1\" class=\"dataframe\">\n",
       "  <thead>\n",
       "    <tr style=\"text-align: right;\">\n",
       "      <th></th>\n",
       "      <th>Date</th>\n",
       "      <th>MSCI</th>\n",
       "      <th>CMG</th>\n",
       "      <th>DPZ</th>\n",
       "      <th>EL</th>\n",
       "      <th>META</th>\n",
       "    </tr>\n",
       "  </thead>\n",
       "  <tbody>\n",
       "    <tr>\n",
       "      <th>0</th>\n",
       "      <td>1995-11-17</td>\n",
       "      <td>NaN</td>\n",
       "      <td>NaN</td>\n",
       "      <td>NaN</td>\n",
       "      <td>6.460622</td>\n",
       "      <td>NaN</td>\n",
       "    </tr>\n",
       "    <tr>\n",
       "      <th>1</th>\n",
       "      <td>1995-11-20</td>\n",
       "      <td>NaN</td>\n",
       "      <td>NaN</td>\n",
       "      <td>NaN</td>\n",
       "      <td>6.226541</td>\n",
       "      <td>NaN</td>\n",
       "    </tr>\n",
       "    <tr>\n",
       "      <th>2</th>\n",
       "      <td>1995-11-21</td>\n",
       "      <td>NaN</td>\n",
       "      <td>NaN</td>\n",
       "      <td>NaN</td>\n",
       "      <td>6.109500</td>\n",
       "      <td>NaN</td>\n",
       "    </tr>\n",
       "    <tr>\n",
       "      <th>3</th>\n",
       "      <td>1995-11-22</td>\n",
       "      <td>NaN</td>\n",
       "      <td>NaN</td>\n",
       "      <td>NaN</td>\n",
       "      <td>6.296765</td>\n",
       "      <td>NaN</td>\n",
       "    </tr>\n",
       "    <tr>\n",
       "      <th>4</th>\n",
       "      <td>1995-11-24</td>\n",
       "      <td>NaN</td>\n",
       "      <td>NaN</td>\n",
       "      <td>NaN</td>\n",
       "      <td>6.530845</td>\n",
       "      <td>NaN</td>\n",
       "    </tr>\n",
       "  </tbody>\n",
       "</table>\n",
       "</div>"
      ],
      "text/plain": [
       "        Date  MSCI  CMG  DPZ        EL  META\n",
       "0 1995-11-17   NaN  NaN  NaN  6.460622   NaN\n",
       "1 1995-11-20   NaN  NaN  NaN  6.226541   NaN\n",
       "2 1995-11-21   NaN  NaN  NaN  6.109500   NaN\n",
       "3 1995-11-22   NaN  NaN  NaN  6.296765   NaN\n",
       "4 1995-11-24   NaN  NaN  NaN  6.530845   NaN"
      ]
     },
     "execution_count": 177,
     "metadata": {},
     "output_type": "execute_result"
    }
   ],
   "source": [
    "\n",
    "# Simplify dataframes to keep only 'Date' and 'Close' columns, and rename 'Close' to the company's ticker for clarity\n",
    "msci_df = MSCI[['Date', 'Close']].rename(columns={'Close': 'MSCI'})\n",
    "cmg_df = CMG[['Date', 'Close']].rename(columns={'Close': 'CMG'})\n",
    "dpz_df = DPZ[['Date', 'Close']].rename(columns={'Close': 'DPZ'})\n",
    "el_df = EL[['Date', 'Close']].rename(columns={'Close': 'EL'})\n",
    "meta_df = META[['Date', 'Close']].rename(columns={'Close': 'META'})\n",
    "\n",
    "# Convert 'Date' to datetime format for all dataframes\n",
    "msci_df['Date'] = pd.to_datetime(msci_df['Date'])\n",
    "cmg_df['Date'] = pd.to_datetime(cmg_df['Date'])\n",
    "dpz_df['Date'] = pd.to_datetime(dpz_df['Date'])\n",
    "el_df['Date'] = pd.to_datetime(el_df['Date'])\n",
    "meta_df['Date'] = pd.to_datetime(meta_df['Date'])\n",
    "\n",
    "# Merge all dataframes on 'Date'\n",
    "merged_df = msci_df.merge(cmg_df, on='Date', how='outer')\\\n",
    "                   .merge(dpz_df, on='Date', how='outer')\\\n",
    "                   .merge(el_df, on='Date', how='outer')\\\n",
    "                   .merge(meta_df, on='Date', how='outer')\n",
    "\n",
    "# Sort by 'Date' to ensure chronological order\n",
    "merged_df = merged_df.sort_values(by='Date').reset_index(drop=True)\n",
    "\n",
    "merged_df.head()\n"
   ]
  },
  {
   "cell_type": "code",
   "execution_count": null,
   "id": "2d5ef575-18b1-46d6-bafd-e6284b5b19db",
   "metadata": {},
   "outputs": [],
   "source": [
    "import plotly.graph_objects as go\n",
    "import pandas as pd\n",
    "\n",
    "# Assuming 'merged_pct_change' is your DataFrame from the previous step\n",
    "\n",
    "# Create a Plotly figure\n",
    "fig = go.Figure()\n",
    "\n",
    "# Add traces for each stock\n",
    "fig.add_trace(go.Scatter(x=merged_pct_change.index, y=merged_pct_change['CMG'], mode='lines', name='CMG', line=dict(color='royalblue')))\n",
    "fig.add_trace(go.Scatter(x=merged_pct_change.index, y=merged_pct_change['DPZ'], mode='lines', name='DPZ', line=dict(color='firebrick')))\n",
    "fig.add_trace(go.Scatter(x=merged_pct_change.index, y=merged_pct_change['EL'], mode='lines', name='EL', line=dict(color='forestgreen')))\n",
    "fig.add_trace(go.Scatter(x=merged_pct_change.index, y=merged_pct_change['META'], mode='lines', name='META', line=dict(color='goldenrod')))\n",
    "\n",
    "# Improve layout for a cleaner look\n",
    "fig.update_layout(\n",
    "    title='Historical Stock Prices (Percentage Change)',\n",
    "    xaxis_title='Date',\n",
    "    yaxis_title='Percentage Change',\n",
    "    plot_bgcolor='white',\n",
    "    xaxis=dict(\n",
    "        linecolor='black',\n",
    "        linewidth=2,\n",
    "        mirror=True\n",
    "    ),\n",
    "    yaxis=dict(\n",
    "        linecolor='black',\n",
    "        linewidth=2,\n",
    "        mirror=True\n",
    "    ),\n",
    "    legend=dict(\n",
    "        bgcolor='rgba(255,255,255,0.5)'\n",
    "    )\n",
    ")\n",
    "\n",
    "# Show the figure\n",
    "fig.show()\n"
   ]
  },
  {
   "cell_type": "code",
   "execution_count": null,
   "id": "d4d9ec7d-3a5c-4dc8-8877-5902c47f2ab0",
   "metadata": {},
   "outputs": [],
   "source": []
  },
  {
   "cell_type": "code",
   "execution_count": null,
   "id": "c4a32d5c-735d-4345-b63b-6732260381f2",
   "metadata": {},
   "outputs": [],
   "source": []
  },
  {
   "cell_type": "code",
   "execution_count": null,
   "id": "3b09b27b-ce40-475c-a72a-91ac6ff62c78",
   "metadata": {},
   "outputs": [],
   "source": []
  },
  {
   "cell_type": "code",
   "execution_count": null,
   "id": "5a0ac29d-c1e6-4f26-bdc9-f65fab175697",
   "metadata": {},
   "outputs": [],
   "source": []
  },
  {
   "cell_type": "code",
   "execution_count": null,
   "id": "e190d976-418d-4e12-886a-73bf6f5aca4b",
   "metadata": {},
   "outputs": [],
   "source": []
  },
  {
   "cell_type": "code",
   "execution_count": null,
   "id": "71815adc-1f6e-490a-908a-306e4ed0112f",
   "metadata": {},
   "outputs": [],
   "source": []
  },
  {
   "cell_type": "code",
   "execution_count": null,
   "id": "c3f5b559-88c1-41fb-a3b0-359ff71a8cae",
   "metadata": {},
   "outputs": [],
   "source": []
  },
  {
   "cell_type": "code",
   "execution_count": null,
   "id": "e1347ee0-f4f7-46df-afef-3eff74a10779",
   "metadata": {},
   "outputs": [],
   "source": []
  },
  {
   "cell_type": "code",
   "execution_count": null,
   "id": "b2580c32-1d7e-48c9-86da-6230d854a7ea",
   "metadata": {},
   "outputs": [],
   "source": []
  }
 ],
 "metadata": {
  "kernelspec": {
   "display_name": "Python 3 (ipykernel)",
   "language": "python",
   "name": "python3"
  },
  "language_info": {
   "codemirror_mode": {
    "name": "ipython",
    "version": 3
   },
   "file_extension": ".py",
   "mimetype": "text/x-python",
   "name": "python",
   "nbconvert_exporter": "python",
   "pygments_lexer": "ipython3",
   "version": "3.8.18"
  }
 },
 "nbformat": 4,
 "nbformat_minor": 5
}
