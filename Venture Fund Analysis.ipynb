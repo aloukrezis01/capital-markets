{
 "cells": [
  {
   "cell_type": "markdown",
   "id": "1697c6ea-d05c-4eb3-aae5-d249b64caaf8",
   "metadata": {},
   "source": [
    "# Venture Fund Analysis"
   ]
  },
  {
   "cell_type": "code",
   "execution_count": null,
   "id": "20a99541-804a-42f4-a909-7d7d83ea964b",
   "metadata": {},
   "outputs": [],
   "source": []
  },
  {
   "cell_type": "code",
   "execution_count": 11,
   "id": "b819a9c9-4720-4920-9372-584d71b4d645",
   "metadata": {},
   "outputs": [
    {
     "name": "stdout",
     "output_type": "stream",
     "text": [
      "         Stock Symbol  Type  Shares Held  Market Value  % of Portfolio  \\\n",
      "0    Tesla inc   TSLA   NaN    2047283.0  1.398601e+09          5.4757   \n",
      "1   Square inc     SQ   NaN    5500423.0  1.341553e+09          5.2524   \n",
      "2     Roku inc   ROKU   NaN    2213307.0  1.014912e+09          3.9735   \n",
      "3  Shopify inc   SHOP   NaN     692044.0  1.010391e+09          3.9558   \n",
      "4   Twilio inc   TWLO   NaN    2409154.0  9.489560e+08          3.7153   \n",
      "\n",
      "   Previous % of Portfolio  Ranking  Change in shares   % Change Change Type  \\\n",
      "0                   5.2193      1.0          452193.0  28.349059    addition   \n",
      "1                   6.2982      2.0         -161931.0  -2.859782   reduction   \n",
      "2                   3.4691      3.0           39557.0   1.819758    addition   \n",
      "3                   2.9875      4.0          140913.0  25.567968    addition   \n",
      "4                   2.7628      5.0          754116.0  45.564875    addition   \n",
      "\n",
      "   % Ownership Qtr first owned                  sector  source_type  \\\n",
      "0     0.206793         Q1 2018  CONSUMER DISCRETIONARY          NaN   \n",
      "1     1.384116         Q4 2016                 FINANCE          NaN   \n",
      "2     1.901392         Q3 2019  INFORMATION TECHNOLOGY          NaN   \n",
      "3     0.610787         Q3 2020          COMMUNICATIONS          NaN   \n",
      "4     1.443201         Q1 2019  INFORMATION TECHNOLOGY          NaN   \n",
      "\n",
      "   source_date  Avg Price  \n",
      "0          NaN   293.6590  \n",
      "1          NaN    95.5700  \n",
      "2          NaN   143.3388  \n",
      "3          NaN  1187.1124  \n",
      "4          NaN   300.9507  \n"
     ]
    }
   ],
   "source": [
    "import os\n",
    "import pandas as pd\n",
    "\n",
    "# Set the relative path to the 'Historical_Data_13F' folder\n",
    "directory = './Historical_Data_13F'\n",
    "\n",
    "# List all CSV files in the 'Historical_Data_13F' directory\n",
    "csv_files = [file for file in os.listdir(directory) if file.endswith('.csv')]\n",
    "\n",
    "# Check if we have any CSV files to process\n",
    "if csv_files:\n",
    "    # Build the full file path for the first CSV file\n",
    "    first_csv_path = os.path.join(directory, csv_files[0])\n",
    "\n",
    "    # Load the first CSV file into a DataFrame\n",
    "    df = pd.read_csv(first_csv_path)\n",
    "\n",
    "    # Print the first few rows of the DataFrame\n",
    "    print(df.head())\n",
    "else:\n",
    "    print(\"No CSV files found in the directory.\")\n"
   ]
  },
  {
   "cell_type": "code",
   "execution_count": null,
   "id": "ec7d5c31-ba10-4fad-bc4f-cc61a0e78c30",
   "metadata": {},
   "outputs": [],
   "source": []
  },
  {
   "cell_type": "code",
   "execution_count": null,
   "id": "76d11e6c-7b29-4447-8b6c-b2f72ad0d1f5",
   "metadata": {},
   "outputs": [],
   "source": []
  },
  {
   "cell_type": "code",
   "execution_count": null,
   "id": "3f082801-aa4d-4351-b593-43ab59b1c431",
   "metadata": {},
   "outputs": [],
   "source": []
  }
 ],
 "metadata": {
  "kernelspec": {
   "display_name": "Python 3 (ipykernel)",
   "language": "python",
   "name": "python3"
  },
  "language_info": {
   "codemirror_mode": {
    "name": "ipython",
    "version": 3
   },
   "file_extension": ".py",
   "mimetype": "text/x-python",
   "name": "python",
   "nbconvert_exporter": "python",
   "pygments_lexer": "ipython3",
   "version": "3.8.18"
  }
 },
 "nbformat": 4,
 "nbformat_minor": 5
}
