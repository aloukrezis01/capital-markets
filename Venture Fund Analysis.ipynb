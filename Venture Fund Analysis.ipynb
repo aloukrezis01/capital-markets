{
 "cells": [
  {
   "cell_type": "markdown",
   "id": "1697c6ea-d05c-4eb3-aae5-d249b64caaf8",
   "metadata": {},
   "source": [
    "# Venture Fund Analysis"
   ]
  },
  {
   "cell_type": "code",
   "execution_count": 21,
   "id": "b819a9c9-4720-4920-9372-584d71b4d645",
   "metadata": {},
   "outputs": [
    {
     "name": "stdout",
     "output_type": "stream",
     "text": [
      "         Stock Symbol  Type  Shares Held  Market Value  % of Portfolio  \\\n",
      "0    Tesla inc   TSLA   NaN    2047283.0  1.398601e+09          5.4757   \n",
      "1   Square inc     SQ   NaN    5500423.0  1.341553e+09          5.2524   \n",
      "2     Roku inc   ROKU   NaN    2213307.0  1.014912e+09          3.9735   \n",
      "3  Shopify inc   SHOP   NaN     692044.0  1.010391e+09          3.9558   \n",
      "4   Twilio inc   TWLO   NaN    2409154.0  9.489560e+08          3.7153   \n",
      "\n",
      "   Previous % of Portfolio  Ranking  Change in shares   % Change Change Type  \\\n",
      "0                   5.2193      1.0          452193.0  28.349059    addition   \n",
      "1                   6.2982      2.0         -161931.0  -2.859782   reduction   \n",
      "2                   3.4691      3.0           39557.0   1.819758    addition   \n",
      "3                   2.9875      4.0          140913.0  25.567968    addition   \n",
      "4                   2.7628      5.0          754116.0  45.564875    addition   \n",
      "\n",
      "   % Ownership Qtr first owned                  sector  source_type  \\\n",
      "0     0.206793         Q1 2018  CONSUMER DISCRETIONARY          NaN   \n",
      "1     1.384116         Q4 2016                 FINANCE          NaN   \n",
      "2     1.901392         Q3 2019  INFORMATION TECHNOLOGY          NaN   \n",
      "3     0.610787         Q3 2020          COMMUNICATIONS          NaN   \n",
      "4     1.443201         Q1 2019  INFORMATION TECHNOLOGY          NaN   \n",
      "\n",
      "   source_date  Avg Price  \n",
      "0          NaN   293.6590  \n",
      "1          NaN    95.5700  \n",
      "2          NaN   143.3388  \n",
      "3          NaN  1187.1124  \n",
      "4          NaN   300.9507  \n"
     ]
    }
   ],
   "source": [
    "import os\n",
    "import pandas as pd\n",
    "\n",
    "# Set the relative path to the 'Historical_Data_13F' folder\n",
    "directory = './Historical_Data_13F'\n",
    "\n",
    "# List all CSV files in the 'Historical_Data_13F' directory\n",
    "csv_files = [file for file in os.listdir(directory) if file.endswith('.csv')]\n",
    "\n",
    "# Check if we have any CSV files to process\n",
    "if csv_files:\n",
    "    # Build the full file path for the first CSV file\n",
    "    first_csv_path = os.path.join(directory, csv_files[0])\n",
    "\n",
    "    # Load the first CSV file into a DataFrame\n",
    "    df = pd.read_csv(first_csv_path)\n",
    "\n",
    "    # Print the first few rows of the DataFrame\n",
    "    print(df.head())\n",
    "else:\n",
    "    print(\"No CSV files found in the directory.\")\n"
   ]
  },
  {
   "cell_type": "code",
   "execution_count": 22,
   "id": "ec7d5c31-ba10-4fad-bc4f-cc61a0e78c30",
   "metadata": {},
   "outputs": [
    {
     "name": "stdout",
     "output_type": "stream",
     "text": [
      "Fundsmith unique tickers:\n",
      "['SBUX', 'PAYC', 'CGNX', 'MKC', 'CLX', 'CDK', 'AMZN', 'ANSS', 'CL', 'ROL', 'MSCI', 'G', 'PYPL', 'ADP', 'QLYS', 'PG', 'FB', 'CHKP', 'VRSN', 'PEP', 'WNS', 'IDXX', 'FTNT', 'MSFT', 'CHD', 'MASI', 'VRSK', 'MAR', 'ZTS', 'PM', 'SABR', 'MMM', 'BDX', 'JNJ', 'INTU', 'IPGP', 'MELI', 'V', 'WING', 'SYK', 'NKE', 'TSM', 'WAT', 'HD', 'AOS', 'EL', 'XP', 'EFX', 'GOOGL', 'BF.B']\n",
      "\n",
      "Dragoneer unique tickers:\n",
      "['GLBE', 'LYEL', 'ESMT', 'HAACU', 'PTON', 'ACVA', 'BLND', 'GDRX', 'SPNV.UN1', 'TME', 'PFTA', 'DUOL', 'NCNO', 'ESTC', 'FUTU', 'PAYO', 'HNST', 'KIND', 'MNDY', 'HAAC', 'CVT', 'AFRM', 'OLO', 'BMBL', 'ZI', 'CCCS.WS', 'MTTR', 'U', 'PLTK', 'FTCH', 'PINS', 'FUBO', 'BABA', 'HCP', 'ABNB', 'DCT', 'TUYA', 'WUBA1', 'API', 'GSKY', 'ALKT', 'PATH', 'YNDX', 'MSP', 'AGCUU', 'JAMF', 'FB', 'UBER', 'LMND', 'DOMA', 'SANA', 'EB', 'AGL', 'ONON', 'DH', 'LFST', 'ROOT', 'CCCS', 'DDOG', 'XMTR', 'ME', 'OSCR', 'FND', 'SNII', 'RIVN', 'XP', 'WORK2', 'DGNR.UN1', 'ONTF', 'MDLA1', 'ENFN', 'NOW', 'OSH', 'OPAD.WS', 'COUR', 'JD', 'MEKA', 'XPEV', 'BZ', 'BILL', 'BRZE', 'GRABW', 'SNOW', 'SPOT', 'XM', 'NU', 'SMAR', 'PCOR', 'POSH', 'CRWD', 'ZM', 'UPWK', 'HAACW', 'LVGO1', 'GRAB', 'FROG', 'MNTV', 'RBLX', 'MQ', 'DT', 'STNE', 'STG', 'ARCE', 'HIPO', 'DASH', 'PLAN', 'EDR', 'CWAN', 'TCVA', 'HOOD', 'CARG', 'NFLX', 'WISH', 'UDMY', 'SQ', 'IOT', 'CDAY', 'DOCS', 'OPAD', 'VTEX', 'BEKE', 'TWLO', 'IS', 'LAW', 'FRSH', 'SQSP', 'GTLB', 'DLO', 'SNII.WS', 'COMP', 'PFTAW']\n",
      "\n",
      "Altimeter unique tickers:\n",
      "['HCP', 'ABNB', 'PTON', 'NOW', 'DT', 'SHOP', 'RBLX', 'TOST', 'CZOO', 'AMZN', 'AAPL', 'TSLA', 'VRM', 'ML', 'YELP', 'DASH', 'PACK', 'COUP', 'EXPE', 'NCLH', 'PATH', 'DUOL', 'SFIX', 'MESA', 'AGCUU', 'BKNG', 'BRZE', 'FB', 'UAL', 'GRABW', 'UBER', 'ANGI', 'OPEN', 'SNOW', 'PDD', 'MDB', 'SKYW', 'ESTC', 'MSFT', 'NTNX', 'PAYO', 'ALGT', 'CFLT', 'XM', 'SQ', 'SOFI', 'SAVE', 'OKTA', 'IOT', 'DOCN', 'MNDY', 'CVT', 'DATA', 'BMBL', 'CRWD', 'CCCS', 'DDOG', 'CVNA', 'ME', 'ZM', 'OSCR', 'RCL', 'CCCS.WS', 'GRUB1', 'GTLB', 'U', 'DV', 'GRAB', 'FTCH', 'CPNG', 'DGNR.UN1', 'SE', 'CRM', 'BABA', 'TRVG']\n",
      "\n",
      "Coatue unique tickers:\n",
      "['PLAY', 'ROST', 'AXTA', 'BSIG', 'AJG', 'CHGG', 'PCG', 'CAG', 'TDG', 'UNM', 'LYV', 'PODD', 'SPGI', 'PVH', 'AMAT', 'VTI', 'HBI', 'VSCO', 'VOYA', 'CBRL', 'FIT2', 'PH', 'PRTY', 'TSM', 'MKSI', 'RLX', 'GOGO', 'TRMB', 'FTCH', 'PINS', 'NKTR', 'NKLA', 'COO', 'CIEN', 'ABBV', 'TOST', 'MU', 'JACK', 'HP', 'ADS', 'O', 'GES', 'QRTEA', 'M', 'PG', 'ESS', 'DHT', 'DPZ', 'SSTK', 'FLIR1', 'LL', 'FLS', 'GCI', 'AAL', 'AAP', 'GPC', 'GRPN', 'V', 'ODFL', 'WPX', 'CHS', 'TPR', 'BIG', 'HELE', 'SHOO', 'SHAK', 'MDLA1', 'CVS', 'FDP', 'K', 'SHOP', 'AON', 'FRC', 'AMZN', 'OMIC', 'TSLA', 'INXN1', 'SCHW', 'BZ', 'APA', 'CAKE', 'BURL', 'ATR', 'CTRA', 'VGR', 'MUSA', 'BLUE', 'BOOT', 'ESRT', 'ZION', 'CHD', 'REV', 'TFX', 'CONN', 'URBN', 'WMT', 'DOCU', 'WMK', 'ODP', 'PGR', 'SBAC', 'SPB', 'IFF', 'TAP', 'RELY', 'AYX', 'AMCX', 'ATVI', 'STZ', 'BFAM', 'ETD', 'VSLR1', 'STNE', 'CGNX', 'HUM', 'SWK', 'FIZZ', 'ROKU', 'DASH', 'PYPL', 'SSYS', 'FOSL', 'VGK', 'NVDA', 'TECH', 'ALB', 'RL', 'WAL', 'SITC', 'MD', 'EA', 'LE', 'PBH', 'LUV', 'TTD', 'SPH', 'OZK', 'COST', 'MSDAU', 'CDAY', 'LBRDK', 'SKX', 'MRK', 'MVIS', 'BEKE', 'HRC', 'WING', 'DD', 'MSI', 'GRUB1', 'GTLB', 'NAVI', 'REAL', 'DBX', 'CVAC', 'PPL', 'BUD', 'UPS', 'DG', 'ST', 'TWTR', 'MSM', 'DLB', 'GLIBA1', 'CMCM', 'WWW', 'TME', 'OXM', 'HTZ/R', 'SRCL', 'SPTN', 'KAR', 'SPR', 'TXRH', 'MCD', 'LI', 'AEO', 'LUMN', 'WKHS', 'PDD', 'FUTU', 'GDOT', 'PAYO', 'RAD', 'EVBG', 'DISH', 'FIVN', 'ATEC', 'DNKN1', 'AVGO', 'INTU', 'TSN', 'NKE', 'VLDR', 'TLYS', 'PZZA', 'COMM', 'STMP1', 'XOM', 'HRL', 'LZB', 'NLOK', 'FWONK', 'CDK', 'ADM', 'YETI', 'ROL', 'API', 'WSM', 'UA', 'EXPE', 'MA', 'HRB', 'PRGO', 'HIBB', 'FB', 'NBIX', 'QGEN', 'WOLF', 'EIX', 'LMND', 'COTY', 'PRI', 'PLNT', 'RH', 'PSA', 'MAR', 'GIS', 'SIX', 'PM', 'PEN', 'CASY', 'BYND', 'S1', 'VST', 'DDOG', 'NTES', 'FND', 'ULTA', 'LAZ', 'JCI', 'EEFT', 'FRBK', 'HTZGQ1', 'DIS', 'WYNN', 'FLO', 'TNL', 'NDLS', 'AIZ', 'NNN', 'BRBR', 'JBLU', 'LEAP.UN', 'LRCX', 'ABMD', 'SNBR', 'GO', 'KEX', 'CATO', 'HLF', 'SIG', 'AA', 'TGT', 'KMB', 'MDB', 'HOG', 'CRI', 'GDS', 'BBWI', 'TUP', 'TRU', 'FRPT', 'MMM', 'HUYA', 'DATA', 'DGX', 'TAL', 'IQV', 'OLN', 'IPGP', 'NYCB', 'YUM', 'GCO', 'SNAP', 'FTRCQ1', 'PTC', 'CTXS', 'HD', 'MTCH', 'STAY1', 'MIK2', 'MDLZ', 'NOC', 'GPS', 'BGS', 'BJ', 'RBLX', 'QSR', 'EGHT', 'BNTX', 'VIAC', 'IRBT', 'IQ', 'COUP', 'EDR', 'LKQ', 'TACO', 'SFIX', 'ORI', 'LCID', 'NBL1', 'ISRG', 'NFLX', 'MRNA', 'AR', 'DKS', 'DXCM', 'IPAR', 'FANG', 'SAVE', 'OKTA', 'HAIN', 'BBY', 'CXO1', 'ALKS', 'TNK', 'DOCS', 'EPC', 'COLD', 'DE', 'VRA', 'EWA', 'LII', 'SPWH', 'COHR', 'AES', 'APD', 'LAZR', 'WEN', 'DBRG', 'WH', 'PTON', 'COIN', 'LSPD', 'TOL', 'SUNL', 'RP1', 'CLGX1', 'TCO1', 'FNF', 'OXY', 'PBPB', 'MNRO', 'WWE', 'TCS', 'CROX', 'CFLT', 'MIDD', 'TIF1', 'JKHY', 'EWU', 'AFRM', 'CGC', 'FDX', 'KSS', 'CPB', 'ANTM', 'WDAY', 'AVLR', 'SKT', 'GLNG', 'RRGB', 'AMG', 'PATH', 'SITE', 'UBER', 'MAN', 'GRMN', 'PRG', 'NYT', 'LYFT', 'SKLZ', 'JWN', 'BA', 'AVY', 'CPT', 'NFG', 'ALK', 'CCCS', 'ROOT', 'OLLI', 'OSCR', 'HUBS', 'VMW', 'ALGN', 'INO', 'NAT', 'DRH', 'FLWS', 'NOW', 'BKR', 'MKTX', 'ECL', 'G', 'NUAN', 'CCO', 'BILL', 'BKNG', 'XRX', 'SNOW', 'FSLY', 'FE', 'SPOT', 'NEWR', 'MUR', 'QS', 'SMAR', 'TPB', 'DECK', 'LOCO', 'CFX', 'CRWD', 'CNK', 'LULU', 'ADSK', 'FUN', 'SRPT', 'RS', 'MNST', 'PBI', 'SLM', 'TSCO', 'HTZWW', 'AMC', 'LEG', 'ATUS', 'ILMN', 'TLRDQ1', 'SMPL', 'KTB', 'RNG', 'MKC', 'THS', 'WBA', 'AXGN', 'MRVL', 'KDP', 'CAL', 'BRFS', 'MAC', 'CZR2', 'HOOD', 'LVS', 'HIW', 'IRM', 'ZNGA', 'JHG', 'ABSI', 'SQ', 'SOFI', 'INCY', 'TWLO', 'POST', 'Z', 'PAGS', 'CENTA', 'FRGI', 'SDC', 'RCII', 'AI', 'SMG', 'CHX', 'TRGP', 'CPPRQ1', 'R', 'BLND', 'REYN', 'HWM', 'TVTY', 'CL', 'AAPL', 'UAA', 'DIDI', 'HOME', 'DENN', 'PETS', 'COLM', 'LW', 'HSIC', 'EXPR', 'PLCE', 'HPE', 'TPX', 'PEP', 'MSFT', 'TEAM', 'HEI', 'CHPT', 'EWH', 'SABR', 'CC', 'FL', 'MELI', 'NUS', 'ETSY', 'ZI', 'AZO', 'TJX', 'AMD', 'DAL', 'ICE', 'SHW', 'PFE', 'SE', 'LZ', 'BABA', 'NTLA', 'BBBY', 'DDD', 'DRE', 'SGEN', 'TCOM', 'OC', 'W', 'GWRE', 'CMG', 'ZG', 'SAM', 'AIG', 'CUZ', 'LKNCY', 'GNCIQ1', 'LOW', 'WTI', 'OPEN', 'TDC', 'HGV', 'HTA', 'DLR', 'TW', 'DRI', 'NGVC', 'SEAS', 'CRBU', 'KO', 'BREW1', 'KOS', 'LPLA', 'DIN', 'APTV', 'VLO', 'GH', 'FEZ', 'DLTH', 'DDL', 'CCK', 'ENR', 'WIX', 'RVLV', 'RIVN', 'WORK2', 'GOOGL', 'ELF', 'CALM', 'X', 'TRV', 'BLMN', 'CAR', 'CLX', 'IMKTA', 'JD', 'KEYS', 'XPEV', 'IVZ', 'SCVL', 'BILI', 'MOH', 'GLUU1', 'PKI', 'EHC', 'CPRI', 'MHK', 'A', 'ADPT', 'CTRN', 'GWW', 'SWI', 'MNKKQ', 'SBH', 'ADBE', 'WAB', 'GPN', 'BJRI', 'CVNA', 'DLTR', 'ZM', 'UPWK', 'KHC', 'ZUMZ', 'EAF', 'FLT', 'BGCP', 'CRM', 'LM1', 'BF.B', 'BRKR', 'MQ', 'DT', 'ANF', 'PLAN', 'ORLY', 'DDS', 'EBAY', 'MDT', 'IT', 'UAL', 'SFM', 'APPN', 'DBI', 'GIII', 'PWR', 'CHUY', 'EWW', 'ESI', 'SWKS', 'TWNK', 'HSY', 'PETQ', 'RUN', 'SRNE', 'KODK', 'FIS']\n",
      "\n",
      "Tiger_Global unique tickers:\n",
      "['AVPT', 'PTON', 'CPPRQ1', 'STLA', 'COIN', 'BLND', 'GDRX', 'GOTU', 'SVFAU', 'DIDI', 'TME', 'REVHU', 'DUOL', 'TDG', 'CHWY', 'CZOO.WS', 'OZON', 'LI', 'PDD', 'ESTC', 'NCNO', 'PRM', 'FUTU', 'MSFT', 'DOYU', 'LMACU', 'TEAM', 'CFLT', 'YMM', 'KIND', 'SUMO', 'MNDY', 'RTP.UN1', 'AFRM', 'OLO', 'INTU', 'BMBL', 'FIT2', 'MELI', 'VERX', 'MNDT', 'LC', 'ZI', 'MTTR', 'SOGO1', 'PLTK', 'FTCH', 'SE', 'BABA', 'HCP', 'ABNB', 'WDAY', 'AVLR', 'TOST', 'DCT', 'PVTL2', 'ZEN', 'TUYA', 'SRNGU1', 'API', 'ALKT', 'JOBY.WS', 'OM', 'MA', 'PATH', 'SVFB', 'MSP', 'W', 'DESP', 'AGCUU', 'JAMF', 'CD', 'LKNCY', 'FB', 'SRAD', 'UBER', 'KPLT', 'ALCC', 'BKSY', 'EB', 'DH', 'AGCB', 'BYND', 'BHG', 'YQ', 'ROOT', 'DDOG', 'V', 'OSCR', 'LDHAU', 'DDL', 'YSG', 'EXFY', 'ZTO', 'RIVN', 'DV', 'XP', 'SEMR', 'WORK2', 'GOOGL', 'ASAN', 'EMBK', 'ONTF', 'DNK1', 'MDLA1', 'CPNG', 'WRAC.U', 'EDU', 'NOW', 'LINX1', 'SHOP', 'AMWL', 'RDFN', 'OSH', 'AMZN', 'TASK', 'JD', 'MEKA', 'XPEV', 'BZ', 'VXX', 'BILI', 'AVDX', 'BIGC', 'BILL', 'REDU', 'BRZE', 'GRUB', 'ONE', 'GRABW', 'SNOW', 'MDB', 'YALA', 'SPOT', 'FSLY', 'NEWR', 'GDS', 'LEGAU', 'SWI', 'APO', 'DOCU', 'XM', 'ADBE', 'NU', 'NABL', 'SMAR', 'PCOR', 'HUYA', 'DADA', 'SVFC', 'CRWD', 'TAL', 'CVNA', 'KC', 'JOBY', 'ZM', 'DNA.WS1', 'PSTG', 'LVGO1', 'PD', 'HCAT', 'GRAB', 'TENB', 'FLT', 'S', 'CRM', 'SWCH', 'FROG', 'MNTV', 'WRBY', 'ASO', 'RBLX', 'MQ', 'EGHT', 'STNE', 'DT', 'FPI', 'STG', 'RNG', 'CZOO', 'KNBE', 'SPLK', 'LITTU', 'DASH', 'PLAN', 'ATH', 'PYPL', 'COUP', 'IQ', 'EDR', 'ONEM', 'TCVA', 'HOOD', 'SPIR', 'DNA', 'PAQCU', 'RERE', 'APP', 'NFLX', 'SQ', 'DOCN', 'OKTA', 'CDAY', 'AJAX.UN1', 'DOCS', 'CDLX', 'WEAV', 'VTEX', 'BEKE', 'TWLO', 'IS', 'FRSH', 'SQSP', 'GTLB', 'NET', 'DLO', 'REAL', 'RUN', 'DBX', 'AI', 'CLDR']\n",
      "\n"
     ]
    }
   ],
   "source": [
    "\n",
    "# Set the relative path to the folder containing your CSV files\n",
    "directory = './Historical_Data_13F'\n",
    "\n",
    "# Define the funds and initialize a dictionary with an empty set for each fund\n",
    "funds = {\n",
    "    'fundsmith': set(),\n",
    "    'dragoneer': set(),\n",
    "    'altimeter': set(),\n",
    "    'coatue': set(),\n",
    "    'tiger_global': set(),\n",
    "}\n",
    "\n",
    "# Get a list of all CSV files in the directory\n",
    "csv_files = [file for file in os.listdir(directory) if file.endswith('.csv')]\n",
    "\n",
    "# Iterate over each CSV file in the directory\n",
    "for csv_file in csv_files:\n",
    "    # For each fund, check if the fund's name is in the file name\n",
    "    for fund in funds:\n",
    "        if fund in csv_file.lower().replace(' ', '_'):  # replace spaces with underscores to match file naming conventions\n",
    "            # Construct the full file path\n",
    "            file_path = os.path.join(directory, csv_file)\n",
    "            \n",
    "            # Read the CSV file into a DataFrame\n",
    "            df = pd.read_csv(file_path)\n",
    "            \n",
    "            # Extract unique tickers from the 'Symbol' column\n",
    "            unique_tickers = df['Symbol'].unique()\n",
    "            \n",
    "            # Update the unique tickers set for the fund\n",
    "            funds[fund].update(unique_tickers)\n",
    "\n",
    "# Convert the sets to lists if you need lists specifically\n",
    "unique_tickers_lists = {fund: list(tickers) for fund, tickers in funds.items()}\n",
    "\n",
    "# You can now print or return the lists for each fund\n",
    "for fund, tickers in unique_tickers_lists.items():\n",
    "    print(f\"{fund.title()} unique tickers:\")\n",
    "    print(tickers)\n",
    "    print()\n"
   ]
  },
  {
   "cell_type": "code",
   "execution_count": 25,
   "id": "76d11e6c-7b29-4447-8b6c-b2f72ad0d1f5",
   "metadata": {},
   "outputs": [],
   "source": [
    "\n"
   ]
  },
  {
   "cell_type": "code",
   "execution_count": null,
   "id": "46ccf0a9-4b15-418e-b20b-2ba91be44f4e",
   "metadata": {},
   "outputs": [],
   "source": []
  },
  {
   "cell_type": "code",
   "execution_count": null,
   "id": "832b5c00-17d9-4788-867c-a74024196328",
   "metadata": {},
   "outputs": [],
   "source": []
  },
  {
   "cell_type": "code",
   "execution_count": null,
   "id": "da3cefad-1ba7-4f6c-9a1e-23e853364342",
   "metadata": {},
   "outputs": [],
   "source": []
  },
  {
   "cell_type": "code",
   "execution_count": null,
   "id": "f5cba539-4e08-4a6d-b1ce-c024337837e6",
   "metadata": {},
   "outputs": [],
   "source": []
  },
  {
   "cell_type": "code",
   "execution_count": null,
   "id": "1e56b6ec-de48-4306-820c-fb8b6410d1e4",
   "metadata": {},
   "outputs": [],
   "source": []
  },
  {
   "cell_type": "code",
   "execution_count": null,
   "id": "3f082801-aa4d-4351-b593-43ab59b1c431",
   "metadata": {},
   "outputs": [],
   "source": []
  },
  {
   "cell_type": "code",
   "execution_count": null,
   "id": "e1bb42be-0a34-4c4a-a8f0-b0dbe46f99bd",
   "metadata": {},
   "outputs": [],
   "source": []
  }
 ],
 "metadata": {
  "kernelspec": {
   "display_name": "Python 3 (ipykernel)",
   "language": "python",
   "name": "python3"
  },
  "language_info": {
   "codemirror_mode": {
    "name": "ipython",
    "version": 3
   },
   "file_extension": ".py",
   "mimetype": "text/x-python",
   "name": "python",
   "nbconvert_exporter": "python",
   "pygments_lexer": "ipython3",
   "version": "3.8.18"
  }
 },
 "nbformat": 4,
 "nbformat_minor": 5
}
