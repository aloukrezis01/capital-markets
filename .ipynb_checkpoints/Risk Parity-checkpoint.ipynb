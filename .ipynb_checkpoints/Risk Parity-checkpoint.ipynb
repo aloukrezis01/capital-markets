{
 "cells": [
  {
   "cell_type": "markdown",
   "id": "132e790b-d8fa-4f60-95bd-bb7254576c55",
   "metadata": {},
   "source": [
    "# Risk Parity\n",
    "\n",
    "### Background\n",
    "\n",
    "\n",
    "\n",
    "### Summary\n",
    "\n",
    "\n",
    "### Data Dictionary\n",
    "\n",
    "\n",
    "\n",
    "\n",
    "#### Gold\n",
    "Gold has long been considered a \"safe-haven\" asset, often retaining value or even appreciating during times of economic uncertainty, inflation, or market volatility. Its value doesn't typically move in direct correlation with stock or bond markets, making it a useful tool for diversification and risk management. In a risk parity portfolio, gold can serve to balance out the risks associated with more volatile assets, providing stability and preserving capital during downturns.\n",
    "\n",
    "#### Bitcoin\n",
    "Bitcoin, on the other hand, represents a more volatile and relatively newer asset class often categorized as \"digital gold\" or a speculative investment. However, its distinct market behavior, potential for high returns, and increasing acceptance as a legitimate investment option allow it to serve a unique role in a risk parity strategy. Bitcoin's low correlation with traditional asset classes like stocks and bonds can contribute to diversification. Moreover, for investors willing to accept higher volatility for the chance of higher returns, Bitcoin can offer a counterbalance to the more stable portions of the portfolio, like gold and bonds.\n",
    "\n",
    "#### Combining Gold and Bitcoin in Risk Parity\n",
    "Incorporating both gold and Bitcoin into a risk parity portfolio leverages their distinct characteristics — gold's stability and Bitcoin's growth potential. The idea is not to predict which asset will perform better but to allocate assets in a way that each contributes equally to the portfolio's risk profile. This can mean adjusting the allocation to gold to counterbalance the higher volatility of Bitcoin, thereby achieving a more stable and diversified investment portfolio."
   ]
  },
  {
   "cell_type": "code",
   "execution_count": 50,
   "id": "644dbac9-d105-42ee-ae5a-86a23667f0a6",
   "metadata": {},
   "outputs": [],
   "source": [
    "import pandas as pd\n",
    "import numpy as np\n",
    "import matplotlib.pyplot as plt\n",
    "import seaborn as sns\n",
    "\n",
    "import datetime\n",
    "from datetime import datetime\n",
    "from datetime import timedelta\n",
    "from dateutil import rrule\n",
    "import time\n",
    "\n",
    "import plotly.graph_objects as go"
   ]
  },
  {
   "cell_type": "markdown",
   "id": "b0266fdd-d49e-40d3-bf70-1c2c07596886",
   "metadata": {},
   "source": [
    "### Data Uploading"
   ]
  },
  {
   "cell_type": "code",
   "execution_count": 51,
   "id": "1d9cf14d-2cd8-44bc-b509-7011c1261362",
   "metadata": {},
   "outputs": [],
   "source": [
    "SPY = pd.read_csv('Historical_Data_Prices_Cleaned/SPY.csv')\n",
    "GLD = pd.read_csv('Historical_Data_Prices_Cleaned/GLD.csv')\n",
    "BTC_USD = pd.read_csv('Historical_Data_Prices_Cleaned/BTC-USD.csv')"
   ]
  },
  {
   "cell_type": "code",
   "execution_count": 52,
   "id": "d3db7be0-c17e-4068-814b-964728c3fc4c",
   "metadata": {},
   "outputs": [
    {
     "name": "stdout",
     "output_type": "stream",
     "text": [
      "<class 'pandas.core.frame.DataFrame'>\n",
      "RangeIndex: 7841 entries, 0 to 7840\n",
      "Data columns (total 9 columns):\n",
      " #   Column         Non-Null Count  Dtype  \n",
      "---  ------         --------------  -----  \n",
      " 0   Date           7841 non-null   object \n",
      " 1   Open           7841 non-null   float64\n",
      " 2   High           7841 non-null   float64\n",
      " 3   Low            7841 non-null   float64\n",
      " 4   Close          7841 non-null   float64\n",
      " 5   Volume         7841 non-null   int64  \n",
      " 6   Dividends      7841 non-null   float64\n",
      " 7   Stock Splits   7841 non-null   float64\n",
      " 8   Capital Gains  7841 non-null   float64\n",
      "dtypes: float64(7), int64(1), object(1)\n",
      "memory usage: 551.4+ KB\n"
     ]
    }
   ],
   "source": [
    "SPY.info()"
   ]
  },
  {
   "cell_type": "code",
   "execution_count": 53,
   "id": "52e0bb44-2002-4aaf-96ef-bba0ec81a06e",
   "metadata": {},
   "outputs": [
    {
     "data": {
      "text/plain": [
       "<bound method DataFrame.info of             Date        Open        High         Low       Close     Volume  \\\n",
       "0     1993-01-29   24.781353   24.781353   24.658063   24.763741    1003200   \n",
       "1     1993-02-01   24.781345   24.939861   24.781345   24.939861     480500   \n",
       "2     1993-02-02   24.922258   25.010323   24.869420   24.992710     201300   \n",
       "3     1993-02-03   25.027931   25.274512   25.010318   25.256899     529400   \n",
       "4     1993-02-04   25.344957   25.415408   25.063151   25.362570     531500   \n",
       "...          ...         ...         ...         ...         ...        ...   \n",
       "7836  2024-03-14  515.368682  515.528221  510.234671  513.354980  110171800   \n",
       "7837  2024-03-15  510.209991  511.700012  508.119995  509.829987  107585800   \n",
       "7838  2024-03-18  514.000000  515.479980  512.440002  512.859985   88893300   \n",
       "7839  2024-03-19  512.150024  516.000000  511.119995  515.710022   60755300   \n",
       "7840  2024-03-20  515.770020  520.619995  515.080017  520.479980   69594600   \n",
       "\n",
       "      Dividends  Stock Splits  Capital Gains  \n",
       "0         0.000           0.0            0.0  \n",
       "1         0.000           0.0            0.0  \n",
       "2         0.000           0.0            0.0  \n",
       "3         0.000           0.0            0.0  \n",
       "4         0.000           0.0            0.0  \n",
       "...         ...           ...            ...  \n",
       "7836      0.000           0.0            0.0  \n",
       "7837      1.595           0.0            0.0  \n",
       "7838      0.000           0.0            0.0  \n",
       "7839      0.000           0.0            0.0  \n",
       "7840      0.000           0.0            0.0  \n",
       "\n",
       "[7841 rows x 9 columns]>"
      ]
     },
     "execution_count": 53,
     "metadata": {},
     "output_type": "execute_result"
    }
   ],
   "source": [
    "SPY.info"
   ]
  },
  {
   "cell_type": "markdown",
   "id": "29e6a685-5381-4a5b-9058-914c2db163b8",
   "metadata": {},
   "source": [
    "### Merging Datframes"
   ]
  },
  {
   "cell_type": "code",
   "execution_count": 54,
   "id": "7076a09d-3361-41fe-a6d4-5cce5626f679",
   "metadata": {},
   "outputs": [
    {
     "data": {
      "text/plain": [
       "(        Date        SPY  BTC_USD  GLD\n",
       " 0 1993-01-29  24.763741      NaN  NaN\n",
       " 1 1993-02-01  24.939861      NaN  NaN\n",
       " 2 1993-02-02  24.992710      NaN  NaN\n",
       " 3 1993-02-03  25.256899      NaN  NaN\n",
       " 4 1993-02-04  25.362570      NaN  NaN,\n",
       "            Date         SPY       BTC_USD         GLD\n",
       " 8919 2024-03-16         NaN  65315.117188         NaN\n",
       " 8920 2024-03-17         NaN  68390.625000         NaN\n",
       " 7838 2024-03-18  512.859985  67548.593750  200.029999\n",
       " 7839 2024-03-19  515.710022  61912.773438  199.800003\n",
       " 7840 2024-03-20  520.479980  67913.671875  202.179993)"
      ]
     },
     "execution_count": 54,
     "metadata": {},
     "output_type": "execute_result"
    }
   ],
   "source": [
    "\n",
    "# Ensure 'Date' columns are in datetime format for all dataframes\n",
    "SPY['Date'] = pd.to_datetime(SPY['Date'])\n",
    "BTC_USD['Date'] = pd.to_datetime(BTC_USD['Date'])\n",
    "GLD['Date'] = pd.to_datetime(GLD['Date'])\n",
    "\n",
    "# Merging the dataframes based on the 'Date' column\n",
    "# Using an outer join to ensure all dates are included even if one asset does not have a corresponding entry\n",
    "merged_df = SPY[['Date', 'Close']].rename(columns={'Close': 'SPY'}).merge(\n",
    "    BTC_USD[['Date', 'Close']].rename(columns={'Close': 'BTC_USD'}), on='Date', how='outer').merge(\n",
    "    GLD[['Date', 'Close']].rename(columns={'Close': 'GLD'}), on='Date', how='outer')\n",
    "\n",
    "# Sorting by date to ensure the data is in chronological order\n",
    "merged_df.sort_values(by='Date', inplace=True)\n",
    "\n",
    "# Showing the first few rows to verify the merge\n",
    "merged_df.head(), merged_df.tail()\n"
   ]
  },
  {
   "cell_type": "code",
   "execution_count": 55,
   "id": "a88bb1bc-c053-4d6c-a2f4-0939545f6c3d",
   "metadata": {},
   "outputs": [],
   "source": [
    "merged_df['Date'] = pd.to_datetime(merged_df['Date'])"
   ]
  },
  {
   "cell_type": "code",
   "execution_count": 56,
   "id": "a8043cee-d5f0-4bd3-be03-26fbab58cebb",
   "metadata": {},
   "outputs": [
    {
     "data": {
      "text/html": [
       "<div>\n",
       "<style scoped>\n",
       "    .dataframe tbody tr th:only-of-type {\n",
       "        vertical-align: middle;\n",
       "    }\n",
       "\n",
       "    .dataframe tbody tr th {\n",
       "        vertical-align: top;\n",
       "    }\n",
       "\n",
       "    .dataframe thead th {\n",
       "        text-align: right;\n",
       "    }\n",
       "</style>\n",
       "<table border=\"1\" class=\"dataframe\">\n",
       "  <thead>\n",
       "    <tr style=\"text-align: right;\">\n",
       "      <th></th>\n",
       "      <th>Date</th>\n",
       "      <th>SPY</th>\n",
       "      <th>BTC_USD</th>\n",
       "      <th>GLD</th>\n",
       "    </tr>\n",
       "  </thead>\n",
       "  <tbody>\n",
       "    <tr>\n",
       "      <th>7833</th>\n",
       "      <td>2024-03-11</td>\n",
       "      <td>509.696350</td>\n",
       "      <td>72123.906250</td>\n",
       "      <td>202.000000</td>\n",
       "    </tr>\n",
       "    <tr>\n",
       "      <th>7834</th>\n",
       "      <td>2024-03-12</td>\n",
       "      <td>515.179321</td>\n",
       "      <td>71481.289062</td>\n",
       "      <td>199.789993</td>\n",
       "    </tr>\n",
       "    <tr>\n",
       "      <th>7835</th>\n",
       "      <td>2024-03-13</td>\n",
       "      <td>514.371826</td>\n",
       "      <td>73083.500000</td>\n",
       "      <td>201.190002</td>\n",
       "    </tr>\n",
       "    <tr>\n",
       "      <th>7836</th>\n",
       "      <td>2024-03-14</td>\n",
       "      <td>513.354980</td>\n",
       "      <td>71396.593750</td>\n",
       "      <td>200.350006</td>\n",
       "    </tr>\n",
       "    <tr>\n",
       "      <th>7837</th>\n",
       "      <td>2024-03-15</td>\n",
       "      <td>509.829987</td>\n",
       "      <td>69403.773438</td>\n",
       "      <td>199.710007</td>\n",
       "    </tr>\n",
       "    <tr>\n",
       "      <th>8919</th>\n",
       "      <td>2024-03-16</td>\n",
       "      <td>NaN</td>\n",
       "      <td>65315.117188</td>\n",
       "      <td>NaN</td>\n",
       "    </tr>\n",
       "    <tr>\n",
       "      <th>8920</th>\n",
       "      <td>2024-03-17</td>\n",
       "      <td>NaN</td>\n",
       "      <td>68390.625000</td>\n",
       "      <td>NaN</td>\n",
       "    </tr>\n",
       "    <tr>\n",
       "      <th>7838</th>\n",
       "      <td>2024-03-18</td>\n",
       "      <td>512.859985</td>\n",
       "      <td>67548.593750</td>\n",
       "      <td>200.029999</td>\n",
       "    </tr>\n",
       "    <tr>\n",
       "      <th>7839</th>\n",
       "      <td>2024-03-19</td>\n",
       "      <td>515.710022</td>\n",
       "      <td>61912.773438</td>\n",
       "      <td>199.800003</td>\n",
       "    </tr>\n",
       "    <tr>\n",
       "      <th>7840</th>\n",
       "      <td>2024-03-20</td>\n",
       "      <td>520.479980</td>\n",
       "      <td>67913.671875</td>\n",
       "      <td>202.179993</td>\n",
       "    </tr>\n",
       "  </tbody>\n",
       "</table>\n",
       "</div>"
      ],
      "text/plain": [
       "           Date         SPY       BTC_USD         GLD\n",
       "7833 2024-03-11  509.696350  72123.906250  202.000000\n",
       "7834 2024-03-12  515.179321  71481.289062  199.789993\n",
       "7835 2024-03-13  514.371826  73083.500000  201.190002\n",
       "7836 2024-03-14  513.354980  71396.593750  200.350006\n",
       "7837 2024-03-15  509.829987  69403.773438  199.710007\n",
       "8919 2024-03-16         NaN  65315.117188         NaN\n",
       "8920 2024-03-17         NaN  68390.625000         NaN\n",
       "7838 2024-03-18  512.859985  67548.593750  200.029999\n",
       "7839 2024-03-19  515.710022  61912.773438  199.800003\n",
       "7840 2024-03-20  520.479980  67913.671875  202.179993"
      ]
     },
     "execution_count": 56,
     "metadata": {},
     "output_type": "execute_result"
    }
   ],
   "source": [
    "merged_df.tail(10)"
   ]
  },
  {
   "cell_type": "markdown",
   "id": "f07299fb-470d-4a65-877f-809753f81179",
   "metadata": {},
   "source": [
    "#### Drop the Weekend Dates\n",
    "\n",
    "In domestic US equity markets, trading only occurs between weekdays from 9:30AM-4PM EST. So two of the three assets in this risk parity portfolio, SPY and GLD, both being ETFs they only have closing prices on weekdays. [Spot Bitcoin](https://finance.yahoo.com/quote/BTC-USD/profile) as used by Yahoo Finance prints closing prices all days of the week, and because of that we must remove the closing price of Spot Bitcoin, or BTC-USD on Saturdays and Sundays. After doing so, there will consistency amongst the data, and we do not need to impute values for SPY and GLD over the weekend throughout the entire dataset.\n",
    "\n",
    "Doing this is important because it adds integrity to the dataset and gives a more accurate representation of the financial metrics, rations, data analysis and findings we derive throughout the rest of this project."
   ]
  },
  {
   "cell_type": "code",
   "execution_count": 62,
   "id": "45037b0e-224a-47ee-b922-fd3615668b33",
   "metadata": {},
   "outputs": [
    {
     "data": {
      "text/html": [
       "<div>\n",
       "<style scoped>\n",
       "    .dataframe tbody tr th:only-of-type {\n",
       "        vertical-align: middle;\n",
       "    }\n",
       "\n",
       "    .dataframe tbody tr th {\n",
       "        vertical-align: top;\n",
       "    }\n",
       "\n",
       "    .dataframe thead th {\n",
       "        text-align: right;\n",
       "    }\n",
       "</style>\n",
       "<table border=\"1\" class=\"dataframe\">\n",
       "  <thead>\n",
       "    <tr style=\"text-align: right;\">\n",
       "      <th></th>\n",
       "      <th>Date</th>\n",
       "      <th>SPY</th>\n",
       "      <th>BTC_USD</th>\n",
       "      <th>GLD</th>\n",
       "    </tr>\n",
       "  </thead>\n",
       "  <tbody>\n",
       "    <tr>\n",
       "      <th>7831</th>\n",
       "      <td>2024-03-07</td>\n",
       "      <td>513.215393</td>\n",
       "      <td>66925.484375</td>\n",
       "      <td>199.940002</td>\n",
       "    </tr>\n",
       "    <tr>\n",
       "      <th>7832</th>\n",
       "      <td>2024-03-08</td>\n",
       "      <td>510.134979</td>\n",
       "      <td>68300.093750</td>\n",
       "      <td>201.630005</td>\n",
       "    </tr>\n",
       "    <tr>\n",
       "      <th>7833</th>\n",
       "      <td>2024-03-11</td>\n",
       "      <td>509.696350</td>\n",
       "      <td>72123.906250</td>\n",
       "      <td>202.000000</td>\n",
       "    </tr>\n",
       "    <tr>\n",
       "      <th>7834</th>\n",
       "      <td>2024-03-12</td>\n",
       "      <td>515.179321</td>\n",
       "      <td>71481.289062</td>\n",
       "      <td>199.789993</td>\n",
       "    </tr>\n",
       "    <tr>\n",
       "      <th>7835</th>\n",
       "      <td>2024-03-13</td>\n",
       "      <td>514.371826</td>\n",
       "      <td>73083.500000</td>\n",
       "      <td>201.190002</td>\n",
       "    </tr>\n",
       "    <tr>\n",
       "      <th>7836</th>\n",
       "      <td>2024-03-14</td>\n",
       "      <td>513.354980</td>\n",
       "      <td>71396.593750</td>\n",
       "      <td>200.350006</td>\n",
       "    </tr>\n",
       "    <tr>\n",
       "      <th>7837</th>\n",
       "      <td>2024-03-15</td>\n",
       "      <td>509.829987</td>\n",
       "      <td>69403.773438</td>\n",
       "      <td>199.710007</td>\n",
       "    </tr>\n",
       "    <tr>\n",
       "      <th>7838</th>\n",
       "      <td>2024-03-18</td>\n",
       "      <td>512.859985</td>\n",
       "      <td>67548.593750</td>\n",
       "      <td>200.029999</td>\n",
       "    </tr>\n",
       "    <tr>\n",
       "      <th>7839</th>\n",
       "      <td>2024-03-19</td>\n",
       "      <td>515.710022</td>\n",
       "      <td>61912.773438</td>\n",
       "      <td>199.800003</td>\n",
       "    </tr>\n",
       "    <tr>\n",
       "      <th>7840</th>\n",
       "      <td>2024-03-20</td>\n",
       "      <td>520.479980</td>\n",
       "      <td>67913.671875</td>\n",
       "      <td>202.179993</td>\n",
       "    </tr>\n",
       "  </tbody>\n",
       "</table>\n",
       "</div>"
      ],
      "text/plain": [
       "           Date         SPY       BTC_USD         GLD\n",
       "7831 2024-03-07  513.215393  66925.484375  199.940002\n",
       "7832 2024-03-08  510.134979  68300.093750  201.630005\n",
       "7833 2024-03-11  509.696350  72123.906250  202.000000\n",
       "7834 2024-03-12  515.179321  71481.289062  199.789993\n",
       "7835 2024-03-13  514.371826  73083.500000  201.190002\n",
       "7836 2024-03-14  513.354980  71396.593750  200.350006\n",
       "7837 2024-03-15  509.829987  69403.773438  199.710007\n",
       "7838 2024-03-18  512.859985  67548.593750  200.029999\n",
       "7839 2024-03-19  515.710022  61912.773438  199.800003\n",
       "7840 2024-03-20  520.479980  67913.671875  202.179993"
      ]
     },
     "execution_count": 62,
     "metadata": {},
     "output_type": "execute_result"
    }
   ],
   "source": [
    "# Filter out weekends where the day of the week is 5 (Saturday) or 6 (Sunday)\n",
    "merged_df = merged_df[merged_df['Date'].dt.weekday < 5]\n",
    "merged_df.tail(10)"
   ]
  },
  {
   "cell_type": "code",
   "execution_count": null,
   "id": "343ba437-5f67-4d47-a217-ecb08a9d0914",
   "metadata": {},
   "outputs": [],
   "source": []
  },
  {
   "cell_type": "markdown",
   "id": "51a90722-af55-46ab-9e95-5b16f47cacbf",
   "metadata": {},
   "source": [
    "#### Exploratory Data Analysis"
   ]
  },
  {
   "cell_type": "code",
   "execution_count": 59,
   "id": "44abb67a-ccbd-44b3-bca7-c3185103a46d",
   "metadata": {},
   "outputs": [
    {
     "data": {
      "text/html": [
       "<div>\n",
       "<style scoped>\n",
       "    .dataframe tbody tr th:only-of-type {\n",
       "        vertical-align: middle;\n",
       "    }\n",
       "\n",
       "    .dataframe tbody tr th {\n",
       "        vertical-align: top;\n",
       "    }\n",
       "\n",
       "    .dataframe thead th {\n",
       "        text-align: right;\n",
       "    }\n",
       "</style>\n",
       "<table border=\"1\" class=\"dataframe\">\n",
       "  <thead>\n",
       "    <tr style=\"text-align: right;\">\n",
       "      <th></th>\n",
       "      <th>Date</th>\n",
       "      <th>SPY</th>\n",
       "      <th>BTC_USD</th>\n",
       "      <th>GLD</th>\n",
       "    </tr>\n",
       "  </thead>\n",
       "  <tbody>\n",
       "    <tr>\n",
       "      <th>Date</th>\n",
       "      <td>1.000000</td>\n",
       "      <td>0.868521</td>\n",
       "      <td>0.779512</td>\n",
       "      <td>0.813661</td>\n",
       "    </tr>\n",
       "    <tr>\n",
       "      <th>SPY</th>\n",
       "      <td>0.868521</td>\n",
       "      <td>1.000000</td>\n",
       "      <td>0.897274</td>\n",
       "      <td>0.701543</td>\n",
       "    </tr>\n",
       "    <tr>\n",
       "      <th>BTC_USD</th>\n",
       "      <td>0.779512</td>\n",
       "      <td>0.897274</td>\n",
       "      <td>1.000000</td>\n",
       "      <td>0.794016</td>\n",
       "    </tr>\n",
       "    <tr>\n",
       "      <th>GLD</th>\n",
       "      <td>0.813661</td>\n",
       "      <td>0.701543</td>\n",
       "      <td>0.794016</td>\n",
       "      <td>1.000000</td>\n",
       "    </tr>\n",
       "  </tbody>\n",
       "</table>\n",
       "</div>"
      ],
      "text/plain": [
       "             Date       SPY   BTC_USD       GLD\n",
       "Date     1.000000  0.868521  0.779512  0.813661\n",
       "SPY      0.868521  1.000000  0.897274  0.701543\n",
       "BTC_USD  0.779512  0.897274  1.000000  0.794016\n",
       "GLD      0.813661  0.701543  0.794016  1.000000"
      ]
     },
     "execution_count": 59,
     "metadata": {},
     "output_type": "execute_result"
    }
   ],
   "source": [
    "merged_df.corr()"
   ]
  },
  {
   "cell_type": "code",
   "execution_count": null,
   "id": "a50446ef-c632-4107-81e6-42df14317e35",
   "metadata": {},
   "outputs": [],
   "source": []
  },
  {
   "cell_type": "code",
   "execution_count": null,
   "id": "a1755665-10dc-436e-8012-aaea19c7027d",
   "metadata": {},
   "outputs": [],
   "source": []
  },
  {
   "cell_type": "markdown",
   "id": "8510764c-61da-4881-b6cc-7711c165979c",
   "metadata": {},
   "source": [
    "### Index Calculation"
   ]
  },
  {
   "cell_type": "code",
   "execution_count": null,
   "id": "77593c84-e1ca-40e5-8744-2486cd16bdb9",
   "metadata": {},
   "outputs": [],
   "source": []
  },
  {
   "cell_type": "code",
   "execution_count": null,
   "id": "e95ba4e9-e3e7-4ecf-b242-4e588c9b1e67",
   "metadata": {},
   "outputs": [],
   "source": []
  },
  {
   "cell_type": "code",
   "execution_count": null,
   "id": "a0ce23ff-b2fa-4eb2-b010-5239d9c75d05",
   "metadata": {},
   "outputs": [],
   "source": []
  },
  {
   "cell_type": "code",
   "execution_count": null,
   "id": "c01f8211-4c69-4290-aaeb-97ac7c5d7457",
   "metadata": {},
   "outputs": [],
   "source": []
  },
  {
   "cell_type": "code",
   "execution_count": null,
   "id": "58161299-012c-47b0-a653-09af2224ee97",
   "metadata": {},
   "outputs": [],
   "source": []
  }
 ],
 "metadata": {
  "kernelspec": {
   "display_name": "Python 3 (ipykernel)",
   "language": "python",
   "name": "python3"
  },
  "language_info": {
   "codemirror_mode": {
    "name": "ipython",
    "version": 3
   },
   "file_extension": ".py",
   "mimetype": "text/x-python",
   "name": "python",
   "nbconvert_exporter": "python",
   "pygments_lexer": "ipython3",
   "version": "3.8.18"
  }
 },
 "nbformat": 4,
 "nbformat_minor": 5
}
