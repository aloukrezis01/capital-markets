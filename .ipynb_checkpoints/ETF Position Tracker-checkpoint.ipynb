{
 "cells": [
  {
   "cell_type": "markdown",
   "id": "63933d12-12c1-443e-ada0-67ca4b57e465",
   "metadata": {},
   "source": [
    "# ETF Holding Tracker"
   ]
  },
  {
   "cell_type": "code",
   "execution_count": null,
   "id": "487c3eac-ae77-4d82-9908-c34a76bfeba3",
   "metadata": {},
   "outputs": [],
   "source": []
  },
  {
   "cell_type": "code",
   "execution_count": null,
   "id": "0bd78cb4-e1ee-4b71-911a-063da2062ac9",
   "metadata": {},
   "outputs": [],
   "source": []
  },
  {
   "cell_type": "code",
   "execution_count": null,
   "id": "31c45fb6-32a7-49b6-a39e-b0481249a816",
   "metadata": {},
   "outputs": [],
   "source": []
  },
  {
   "cell_type": "code",
   "execution_count": null,
   "id": "9f61be9b-8afe-4b7c-ab3b-be1a369f7b3b",
   "metadata": {},
   "outputs": [],
   "source": []
  },
  {
   "cell_type": "code",
   "execution_count": null,
   "id": "79cb925e-eed4-4645-bfe5-df4430eb3053",
   "metadata": {},
   "outputs": [],
   "source": []
  },
  {
   "cell_type": "code",
   "execution_count": null,
   "id": "13fa93e1-52c9-4531-b064-4e8ac07b51b4",
   "metadata": {},
   "outputs": [],
   "source": []
  },
  {
   "cell_type": "code",
   "execution_count": null,
   "id": "054cd29c-9785-4f2a-9037-472161bb1393",
   "metadata": {},
   "outputs": [],
   "source": []
  }
 ],
 "metadata": {
  "kernelspec": {
   "display_name": "Python 3 (ipykernel)",
   "language": "python",
   "name": "python3"
  },
  "language_info": {
   "codemirror_mode": {
    "name": "ipython",
    "version": 3
   },
   "file_extension": ".py",
   "mimetype": "text/x-python",
   "name": "python",
   "nbconvert_exporter": "python",
   "pygments_lexer": "ipython3",
   "version": "3.8.18"
  }
 },
 "nbformat": 4,
 "nbformat_minor": 5
}
