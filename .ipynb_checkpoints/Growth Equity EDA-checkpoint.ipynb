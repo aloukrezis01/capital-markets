{
 "cells": [
  {
   "cell_type": "code",
   "execution_count": 2,
   "id": "af3c3feb-d6c7-4e9e-845c-b9ca70a949c3",
   "metadata": {
    "tags": []
   },
   "outputs": [
    {
     "data": {
      "text/plain": [
       "<Figure size 640x480 with 0 Axes>"
      ]
     },
     "metadata": {},
     "output_type": "display_data"
    }
   ],
   "source": [
    "import pandas as pd\n",
    "import numpy as np\n",
    "import matplotlib.pyplot as plt\n",
    "import seaborn as sns\n",
    "\n",
    "import datetime\n",
    "from datetime import datetime\n",
    "from datetime import timedelta\n",
    "from dateutil import rrule\n",
    "import time\n",
    "\n",
    "import os\n",
    "import glob\n",
    "\n",
    "sns.set_theme(style=\"dark\")\n",
    "sns.color_palette(\"viridis\", as_cmap=True)\n",
    "\n",
    "plt.rcParams[\"font.family\"] = \"sans-serif\"\n",
    "plt.style.use('dark_background')\n",
    "\n",
    "custom_params = {\"axes.spines.right\": False, \"axes.spines.top\": False}\n",
    "sns.despine(left=True)"
   ]
  },
  {
   "cell_type": "markdown",
   "id": "77a6676d-c681-4dcf-9596-aa4bbdc139a9",
   "metadata": {},
   "source": [
    "### Equity Data Uploading"
   ]
  },
  {
   "cell_type": "code",
   "execution_count": 7,
   "id": "d9a17f56-0018-47b4-bb9f-4329684b776a",
   "metadata": {
    "tags": []
   },
   "outputs": [],
   "source": [
    "AMZN = pd.read_csv('Historical_Data_Prices/AMZN.csv')"
   ]
  },
  {
   "cell_type": "markdown",
   "id": "18d5d407-25e9-4e0d-8f31-2b550492f396",
   "metadata": {
    "tags": []
   },
   "source": [
    "#### Data Integrity Testing"
   ]
  },
  {
   "cell_type": "code",
   "execution_count": 10,
   "id": "fae4f5f8-fc4f-4f04-bcdf-c1b09a89c154",
   "metadata": {
    "tags": []
   },
   "outputs": [
    {
     "name": "stdout",
     "output_type": "stream",
     "text": [
      "<class 'pandas.core.frame.DataFrame'>\n",
      "RangeIndex: 6738 entries, 0 to 6737\n",
      "Data columns (total 8 columns):\n",
      " #   Column        Non-Null Count  Dtype  \n",
      "---  ------        --------------  -----  \n",
      " 0   Date          6738 non-null   object \n",
      " 1   Open          6738 non-null   float64\n",
      " 2   High          6738 non-null   float64\n",
      " 3   Low           6738 non-null   float64\n",
      " 4   Close         6738 non-null   float64\n",
      " 5   Volume        6738 non-null   int64  \n",
      " 6   Dividends     6738 non-null   float64\n",
      " 7   Stock Splits  6738 non-null   float64\n",
      "dtypes: float64(6), int64(1), object(1)\n",
      "memory usage: 421.2+ KB\n"
     ]
    }
   ],
   "source": [
    "AMZN.info()"
   ]
  },
  {
   "cell_type": "code",
   "execution_count": 11,
   "id": "b0382a29-1503-4e82-bbf5-4e6b282380f0",
   "metadata": {
    "tags": []
   },
   "outputs": [
    {
     "data": {
      "text/html": [
       "<div>\n",
       "<style scoped>\n",
       "    .dataframe tbody tr th:only-of-type {\n",
       "        vertical-align: middle;\n",
       "    }\n",
       "\n",
       "    .dataframe tbody tr th {\n",
       "        vertical-align: top;\n",
       "    }\n",
       "\n",
       "    .dataframe thead th {\n",
       "        text-align: right;\n",
       "    }\n",
       "</style>\n",
       "<table border=\"1\" class=\"dataframe\">\n",
       "  <thead>\n",
       "    <tr style=\"text-align: right;\">\n",
       "      <th></th>\n",
       "      <th>Date</th>\n",
       "      <th>Open</th>\n",
       "      <th>High</th>\n",
       "      <th>Low</th>\n",
       "      <th>Close</th>\n",
       "      <th>Volume</th>\n",
       "      <th>Dividends</th>\n",
       "      <th>Stock Splits</th>\n",
       "    </tr>\n",
       "  </thead>\n",
       "  <tbody>\n",
       "    <tr>\n",
       "      <th>0</th>\n",
       "      <td>1997-05-15 00:00:00-04:00</td>\n",
       "      <td>0.121875</td>\n",
       "      <td>0.125000</td>\n",
       "      <td>0.096354</td>\n",
       "      <td>0.097917</td>\n",
       "      <td>1443120000</td>\n",
       "      <td>0.0</td>\n",
       "      <td>0.0</td>\n",
       "    </tr>\n",
       "    <tr>\n",
       "      <th>1</th>\n",
       "      <td>1997-05-16 00:00:00-04:00</td>\n",
       "      <td>0.098438</td>\n",
       "      <td>0.098958</td>\n",
       "      <td>0.085417</td>\n",
       "      <td>0.086458</td>\n",
       "      <td>294000000</td>\n",
       "      <td>0.0</td>\n",
       "      <td>0.0</td>\n",
       "    </tr>\n",
       "    <tr>\n",
       "      <th>2</th>\n",
       "      <td>1997-05-19 00:00:00-04:00</td>\n",
       "      <td>0.088021</td>\n",
       "      <td>0.088542</td>\n",
       "      <td>0.081250</td>\n",
       "      <td>0.085417</td>\n",
       "      <td>122136000</td>\n",
       "      <td>0.0</td>\n",
       "      <td>0.0</td>\n",
       "    </tr>\n",
       "    <tr>\n",
       "      <th>3</th>\n",
       "      <td>1997-05-20 00:00:00-04:00</td>\n",
       "      <td>0.086458</td>\n",
       "      <td>0.087500</td>\n",
       "      <td>0.081771</td>\n",
       "      <td>0.081771</td>\n",
       "      <td>109344000</td>\n",
       "      <td>0.0</td>\n",
       "      <td>0.0</td>\n",
       "    </tr>\n",
       "    <tr>\n",
       "      <th>4</th>\n",
       "      <td>1997-05-21 00:00:00-04:00</td>\n",
       "      <td>0.081771</td>\n",
       "      <td>0.082292</td>\n",
       "      <td>0.068750</td>\n",
       "      <td>0.071354</td>\n",
       "      <td>377064000</td>\n",
       "      <td>0.0</td>\n",
       "      <td>0.0</td>\n",
       "    </tr>\n",
       "  </tbody>\n",
       "</table>\n",
       "</div>"
      ],
      "text/plain": [
       "                        Date      Open      High       Low     Close  \\\n",
       "0  1997-05-15 00:00:00-04:00  0.121875  0.125000  0.096354  0.097917   \n",
       "1  1997-05-16 00:00:00-04:00  0.098438  0.098958  0.085417  0.086458   \n",
       "2  1997-05-19 00:00:00-04:00  0.088021  0.088542  0.081250  0.085417   \n",
       "3  1997-05-20 00:00:00-04:00  0.086458  0.087500  0.081771  0.081771   \n",
       "4  1997-05-21 00:00:00-04:00  0.081771  0.082292  0.068750  0.071354   \n",
       "\n",
       "       Volume  Dividends  Stock Splits  \n",
       "0  1443120000        0.0           0.0  \n",
       "1   294000000        0.0           0.0  \n",
       "2   122136000        0.0           0.0  \n",
       "3   109344000        0.0           0.0  \n",
       "4   377064000        0.0           0.0  "
      ]
     },
     "execution_count": 11,
     "metadata": {},
     "output_type": "execute_result"
    }
   ],
   "source": [
    "AMZN.head(5)"
   ]
  },
  {
   "cell_type": "code",
   "execution_count": null,
   "id": "4fc95a83-877d-4b98-938b-d2222cb660cf",
   "metadata": {},
   "outputs": [],
   "source": []
  },
  {
   "cell_type": "code",
   "execution_count": null,
   "id": "b7cc77d7-c0c3-4e0b-b9aa-f8b1b0cc9e3e",
   "metadata": {},
   "outputs": [],
   "source": []
  },
  {
   "cell_type": "code",
   "execution_count": null,
   "id": "0ceaec73-41ea-4bd9-a636-c0496e604c66",
   "metadata": {},
   "outputs": [],
   "source": []
  },
  {
   "cell_type": "code",
   "execution_count": null,
   "id": "2d5ef575-18b1-46d6-bafd-e6284b5b19db",
   "metadata": {},
   "outputs": [],
   "source": []
  }
 ],
 "metadata": {
  "kernelspec": {
   "display_name": "Python 3 (ipykernel)",
   "language": "python",
   "name": "python3"
  },
  "language_info": {
   "codemirror_mode": {
    "name": "ipython",
    "version": 3
   },
   "file_extension": ".py",
   "mimetype": "text/x-python",
   "name": "python",
   "nbconvert_exporter": "python",
   "pygments_lexer": "ipython3",
   "version": "3.8.18"
  }
 },
 "nbformat": 4,
 "nbformat_minor": 5
}
