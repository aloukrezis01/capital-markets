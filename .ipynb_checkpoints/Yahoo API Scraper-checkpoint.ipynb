{
 "cells": [
  {
   "cell_type": "code",
   "execution_count": null,
   "id": "5464a93f-4857-4bd4-bb02-adbedf5c4fc6",
   "metadata": {},
   "outputs": [],
   "source": [
    "import yfinance as yf\n",
    "import pandas as pd\n",
    "import numpy as np\n",
    "import matplotlib.pyplot as plt\n",
    "import os"
   ]
  },
  {
   "cell_type": "markdown",
   "id": "86cd6476-352d-42ec-80da-5f75a5f05c9b",
   "metadata": {},
   "source": [
    "### Yahoo API\n",
    "<b>Script to pull data from Yahoo Finance API</b>\n",
    "- Below is the script to pull a list of equities we want to get the historical pricing for into a dataframe, tickerSymbols"
   ]
  },
  {
   "cell_type": "code",
   "execution_count": null,
   "id": "0a24a633-6fd3-436a-8aec-d84758d4ca32",
   "metadata": {},
   "outputs": [],
   "source": [
    "# Define the ticker symbols\n",
    "tickerSymbols = [\n",
    "                 ]  # Add your ticker symbols here\n",
    "\n",
    "# Create an empty dictionary to store dataframes\n",
    "tickerDataFrames = {}\n",
    "\n",
    "for tickerSymbol in tickerSymbols:\n",
    "    # Get data on this ticker\n",
    "    tickerData = yf.Ticker(tickerSymbol)\n",
    "    \n",
    "    # Get the historical prices for this ticker\n",
    "    tickerDf = tickerData.history(period='1d', start='1980-1-1', end='2023-12-31')\n",
    "    \n",
    "    # Store the dataframe in the dictionary with the ticker symbol as the key\n",
    "    tickerDataFrames[tickerSymbol] = tickerDf"
   ]
  },
  {
   "cell_type": "code",
   "execution_count": null,
   "id": "fbc1ea91-c8a5-46f2-bc85-4a66cba7cb59",
   "metadata": {},
   "outputs": [],
   "source": [
    "\n",
    "# Directory where you want to save the CSV files\n",
    "output_directory = '/folder/sub_folder/sub_sub_folder'  # Change this to your desired folder\n",
    "\n",
    "# Create the directory if it doesn't exist\n",
    "if not os.path.exists(output_directory):\n",
    "    os.makedirs(output_directory)\n",
    "\n",
    "# Iterate over the dictionary and save each DataFrame as a CSV\n",
    "for ticker, df in tickerDataFrames.items():\n",
    "    # Define the path for the CSV file\n",
    "    csv_file_path = os.path.join(output_directory, f\"{ticker}.csv\")\n",
    "    \n",
    "    # Save the DataFrame to a CSV file\n",
    "    df.to_csv(csv_file_path)\n",
    "    \n",
    "    print(f\"Saved {ticker} data to {csv_file_path}\")"
   ]
  },
  {
   "cell_type": "code",
   "execution_count": null,
   "id": "03e7a2a1-d222-46e0-9b86-005c26cc9a37",
   "metadata": {},
   "outputs": [],
   "source": []
  },
  {
   "cell_type": "code",
   "execution_count": null,
   "id": "ab3fc745-cf54-4e0a-b93a-38c655a29537",
   "metadata": {},
   "outputs": [],
   "source": []
  },
  {
   "cell_type": "code",
   "execution_count": null,
   "id": "40d04c62-80f1-4757-aa98-42827b7fa025",
   "metadata": {},
   "outputs": [],
   "source": []
  },
  {
   "cell_type": "code",
   "execution_count": null,
   "id": "d17aea3f-d59d-4779-b4b2-0f3890eb0e68",
   "metadata": {},
   "outputs": [],
   "source": []
  },
  {
   "cell_type": "code",
   "execution_count": null,
   "id": "9f8e2190-274b-4263-a9b7-faf762c4442c",
   "metadata": {},
   "outputs": [],
   "source": []
  }
 ],
 "metadata": {
  "kernelspec": {
   "display_name": "Python 3 (ipykernel)",
   "language": "python",
   "name": "python3"
  },
  "language_info": {
   "codemirror_mode": {
    "name": "ipython",
    "version": 3
   },
   "file_extension": ".py",
   "mimetype": "text/x-python",
   "name": "python",
   "nbconvert_exporter": "python",
   "pygments_lexer": "ipython3",
   "version": "3.8.18"
  }
 },
 "nbformat": 4,
 "nbformat_minor": 5
}
