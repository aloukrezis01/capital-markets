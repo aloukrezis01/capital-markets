{
 "cells": [
  {
   "cell_type": "markdown",
   "id": "9b88ded0-8776-4343-92a6-365db578c693",
   "metadata": {},
   "source": [
    "# Yahoo Finance API Data Pulling Script\n",
    "\n",
    "### Background\n",
    "In my previous roles, I leveraged software like Bloomberg to extract data and construct models or perform any high level or in depth data & financial analysis. \n",
    "\n",
    "Without direct access to tools such as Bloomberg, I and many others have to adapt to alternative methodologies for acquiring historical pricing data. \n",
    "\n",
    "Yahoo Finance's API is a good option for anyone looking to analyze and build models or visualizations with public market data, and doesn't have access to these alternative, paid enterprise solutions.\n",
    "\n",
    "### Summary\n",
    "The below script lets one download the historical data (Closing Price, Dividends, Stock Splits) of a given financial instrument(s) (equity, commodity, exchange traded fund, cryptocurrency, index) and save into a respective .CSV formatted file."
   ]
  },
  {
   "cell_type": "code",
   "execution_count": null,
   "id": "5464a93f-4857-4bd4-bb02-adbedf5c4fc6",
   "metadata": {},
   "outputs": [],
   "source": [
    "import yfinance as yf\n",
    "import pandas as pd\n",
    "import numpy as np\n",
    "import matplotlib.pyplot as plt\n",
    "import os"
   ]
  },
  {
   "cell_type": "markdown",
   "id": "86cd6476-352d-42ec-80da-5f75a5f05c9b",
   "metadata": {},
   "source": [
    "### Pulling Data from Yahoo Finance API\n",
    "<b>Script to pull data from Yahoo Finance API</b>\n",
    "- Define what financial instruments you'd like to retrieve historical data. for, and the time period of that historical data. Then decide on the directory you'd like to save that data in."
   ]
  },
  {
   "cell_type": "code",
   "execution_count": null,
   "id": "0a24a633-6fd3-436a-8aec-d84758d4ca32",
   "metadata": {},
   "outputs": [],
   "source": [
    "# Define the ticker symbols\n",
    "tickerSymbols = [\n",
    "                 ]  # Add your ticker symbols here. For example: 'AAPL','MSFT','META','GOOGL'\n",
    "\n",
    "# Create an empty dictionary to store dataframes\n",
    "tickerDataFrames = {}\n",
    "\n",
    "for tickerSymbol in tickerSymbols:\n",
    "    # Get data on this ticker\n",
    "    tickerData = yf.Ticker(tickerSymbol)\n",
    "    \n",
    "    # Get the historical prices for this ticker\n",
    "    tickerDf = tickerData.history(period='1d', start='1980-01-01', end='2023-12-31')\n",
    "    \n",
    "    # Store the dataframe in the dictionary with the ticker symbol as the key\n",
    "    tickerDataFrames[tickerSymbol] = tickerDf"
   ]
  },
  {
   "cell_type": "code",
   "execution_count": null,
   "id": "fbc1ea91-c8a5-46f2-bc85-4a66cba7cb59",
   "metadata": {},
   "outputs": [],
   "source": [
    "\n",
    "# Directory where you want to save the CSV files\n",
    "output_directory = '/folder/sub_folder/sub_sub_folder'  # Change this to your desired folder\n",
    "\n",
    "# Create the directory if it doesn't exist\n",
    "if not os.path.exists(output_directory):\n",
    "    os.makedirs(output_directory)\n",
    "\n",
    "# Iterate over the dictionary and save each DataFrame as a CSV\n",
    "for ticker, df in tickerDataFrames.items():\n",
    "    # Define the path for the CSV file\n",
    "    csv_file_path = os.path.join(output_directory, f\"{ticker}.csv\")\n",
    "    \n",
    "    # Save the DataFrame to a CSV file\n",
    "    df.to_csv(csv_file_path)\n",
    "    \n",
    "    print(f\"Saved {ticker} data to {csv_file_path}\")"
   ]
  }
 ],
 "metadata": {
  "kernelspec": {
   "display_name": "Python 3 (ipykernel)",
   "language": "python",
   "name": "python3"
  },
  "language_info": {
   "codemirror_mode": {
    "name": "ipython",
    "version": 3
   },
   "file_extension": ".py",
   "mimetype": "text/x-python",
   "name": "python",
   "nbconvert_exporter": "python",
   "pygments_lexer": "ipython3",
   "version": "3.8.18"
  }
 },
 "nbformat": 4,
 "nbformat_minor": 5
}
