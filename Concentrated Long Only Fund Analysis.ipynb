{
 "cells": [
  {
   "cell_type": "markdown",
   "id": "651f2c16-bad6-44e3-8dc5-a22bd72cd51d",
   "metadata": {},
   "source": [
    "# Concentrated Long Only Fund Analysis"
   ]
  },
  {
   "cell_type": "code",
   "execution_count": 3,
   "id": "c18c97a6-7174-45dd-b853-afeeea018c75",
   "metadata": {},
   "outputs": [
    {
     "name": "stdout",
     "output_type": "stream",
     "text": [
      "                             Stock Symbol  Type  Shares Held  Market Value  \\\n",
      "0                  Microsoft corp.   MSFT   NaN   12189646.0  1.694726e+09   \n",
      "1              Paypal holdings inc   PYPL   NaN   15402344.0  1.595529e+09   \n",
      "2      Estee lauder companies inc.     EL   NaN    6766747.0  1.346244e+09   \n",
      "3                    Stryker corp.    SYK   NaN    5945105.0  1.285926e+09   \n",
      "4  Philip morris international inc     PM   NaN   16928583.0  1.285387e+09   \n",
      "\n",
      "   % of Portfolio  Previous % of Portfolio  Ranking  Change in shares  \\\n",
      "0          8.6626                   8.4958      1.0           18512.0   \n",
      "1          8.1556                   9.1795      2.0           11316.0   \n",
      "2          6.8814                   6.3553      3.0          105962.0   \n",
      "3          6.5731                   6.2146      4.0          143665.0   \n",
      "4          6.5703                   6.2478      5.0         1660076.0   \n",
      "\n",
      "    % Change Change Type  % Ownership Qtr first owned                  sector  \\\n",
      "0   0.152098    addition     0.159646         Q1 2015  INFORMATION TECHNOLOGY   \n",
      "1   0.073523    addition     1.308966         Q3 2015          COMMUNICATIONS   \n",
      "2   1.590834    addition     1.875692         Q2 2016        CONSUMER STAPLES   \n",
      "3   2.476368    addition     1.589175         Q4 2012             HEALTH CARE   \n",
      "4  10.872550    addition     1.088067         Q4 2012        CONSUMER STAPLES   \n",
      "\n",
      "   source_type  source_date  Avg Price  \n",
      "0          NaN          NaN    51.2934  \n",
      "1          NaN          NaN    40.8461  \n",
      "2          NaN          NaN   114.9070  \n",
      "3          NaN          NaN   100.4001  \n",
      "4          NaN          NaN    88.0520  \n"
     ]
    }
   ],
   "source": [
    "import os\n",
    "import pandas as pd\n",
    "\n",
    "# Set the relative path to the 'Historical_Data_13F' folder\n",
    "directory = './Historical_Data_13F_Updated/concentrated_long_only_funds'\n",
    "\n",
    "# List all CSV files in the 'Historical_Data_13F' directory\n",
    "csv_files = [file for file in os.listdir(directory) if file.endswith('.csv')]\n",
    "\n",
    "# Check if we have any CSV files to process\n",
    "if csv_files:\n",
    "    # Build the full file path for the first CSV file\n",
    "    first_csv_path = os.path.join(directory, csv_files[0])\n",
    "\n",
    "    # Load the first CSV file into a DataFrame\n",
    "    df = pd.read_csv(first_csv_path)\n",
    "\n",
    "    # Print the first few rows of the DataFrame\n",
    "    print(df.head())\n",
    "else:\n",
    "    print(\"No CSV files found in the directory.\")\n"
   ]
  },
  {
   "cell_type": "code",
   "execution_count": null,
   "id": "43547f47-8645-4852-baaf-f0525d9e320f",
   "metadata": {},
   "outputs": [],
   "source": []
  },
  {
   "cell_type": "code",
   "execution_count": 4,
   "id": "a2606a30-db30-40e7-9660-892fb6f9cbe3",
   "metadata": {},
   "outputs": [
    {
     "name": "stdout",
     "output_type": "stream",
     "text": [
      "  Ticker  fundsmith-2019_q3  fundsmith-2021_q4  fundsmith-2019_q4  \\\n",
      "0   MSFT                  1                  1                  1   \n",
      "1   PYPL                  1                  1                  1   \n",
      "2     EL                  1                  1                  1   \n",
      "3    SYK                  1                  1                  1   \n",
      "4     PM                  1                  1                  1   \n",
      "\n",
      "   fundsmith-2021_q1  fundsmith-2021_q3  fundsmith-2021_q2  fundsmith-2020_q4  \\\n",
      "0                  1                  1                  1                  1   \n",
      "1                  1                  1                  1                  1   \n",
      "2                  1                  1                  1                  1   \n",
      "3                  1                  1                  1                  1   \n",
      "4                  1                  1                  1                  1   \n",
      "\n",
      "   fundsmith-2020_q2  fundsmith-2020_q3  fundsmith-2020_q1  \n",
      "0                  1                  1                  1  \n",
      "1                  1                  1                  1  \n",
      "2                  1                  1                  1  \n",
      "3                  1                  1                  1  \n",
      "4                  1                  1                  1  \n"
     ]
    }
   ],
   "source": [
    "# Path to the directory containing CSV files\n",
    "directory = './Historical_Data_13F_Updated/concentrated_long_only_funds'\n",
    "\n",
    "# Initialize an empty dictionary to store the ticker presence data\n",
    "ticker_presence = {}\n",
    "\n",
    "# Get all CSV files from the directory\n",
    "csv_files = [f for f in os.listdir(directory) if f.endswith('.csv')]\n",
    "\n",
    "# Iterate over the files and extract unique tickers\n",
    "for csv_file in csv_files:\n",
    "    # Strip the '.csv' extension for use as DataFrame column names\n",
    "    clean_file_name = csv_file.replace('.csv', '')\n",
    "\n",
    "    file_path = os.path.join(directory, csv_file)\n",
    "    df = pd.read_csv(file_path)\n",
    "    unique_tickers = df['Symbol'].unique()\n",
    "    \n",
    "    # Update the ticker presence for each file\n",
    "    for ticker in unique_tickers:\n",
    "        if ticker not in ticker_presence:\n",
    "            # Initialize a new entry in the dictionary with the cleaned file names\n",
    "            ticker_presence[ticker] = {clean_name: 0 for clean_name in [name.replace('.csv', '') for name in csv_files]}\n",
    "        # Mark the presence of the ticker in the current file\n",
    "        ticker_presence[ticker][clean_file_name] = 1\n",
    "\n",
    "# Create a DataFrame from the ticker presence dictionary\n",
    "one_hot_encoded_df = pd.DataFrame.from_dict(ticker_presence, orient='index')\n",
    "\n",
    "# Reset the index to get tickers as a column instead of an index\n",
    "one_hot_encoded_df.reset_index(inplace=True)\n",
    "one_hot_encoded_df.rename(columns={'index': 'Ticker'}, inplace=True)\n",
    "\n",
    "# Save the one_hot_encoded_df DataFrame to a CSV file\n",
    "one_hot_encoded_df.to_csv('concentrated_long_only_fund_encoded_data.csv', index=False)\n",
    "\n",
    "# Print the first few rows of the one-hot encoded DataFrame to verify\n",
    "print(one_hot_encoded_df.head())"
   ]
  },
  {
   "cell_type": "code",
   "execution_count": null,
   "id": "35a8110a-8ece-4426-85fb-c47a2bf4fc11",
   "metadata": {},
   "outputs": [],
   "source": []
  },
  {
   "cell_type": "code",
   "execution_count": null,
   "id": "5912eea2-743e-4274-a2fa-9f8fa057836a",
   "metadata": {},
   "outputs": [],
   "source": []
  },
  {
   "cell_type": "code",
   "execution_count": null,
   "id": "dafef947-4f76-4a85-9101-4acf25d357dd",
   "metadata": {},
   "outputs": [],
   "source": []
  },
  {
   "cell_type": "code",
   "execution_count": null,
   "id": "a2404861-869d-4465-af70-37c9a31f2f97",
   "metadata": {},
   "outputs": [],
   "source": []
  },
  {
   "cell_type": "code",
   "execution_count": null,
   "id": "4fdff0fd-59bd-4a00-b479-5d37c420660e",
   "metadata": {},
   "outputs": [],
   "source": []
  },
  {
   "cell_type": "code",
   "execution_count": null,
   "id": "d57fa323-5c86-4339-a404-7849143cc4b4",
   "metadata": {},
   "outputs": [],
   "source": []
  }
 ],
 "metadata": {
  "kernelspec": {
   "display_name": "Python 3 (ipykernel)",
   "language": "python",
   "name": "python3"
  },
  "language_info": {
   "codemirror_mode": {
    "name": "ipython",
    "version": 3
   },
   "file_extension": ".py",
   "mimetype": "text/x-python",
   "name": "python",
   "nbconvert_exporter": "python",
   "pygments_lexer": "ipython3",
   "version": "3.8.18"
  }
 },
 "nbformat": 4,
 "nbformat_minor": 5
}
