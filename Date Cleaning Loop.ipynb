{
 "cells": [
  {
   "cell_type": "code",
   "execution_count": 2,
   "id": "f2657dd4-0f0a-46e7-b504-eee694dcf682",
   "metadata": {},
   "outputs": [
    {
     "name": "stdout",
     "output_type": "stream",
     "text": [
      "Date cleaning applied to all files. Cleaned files are saved in Historical_Data_Prices_Cleaned\n"
     ]
    }
   ],
   "source": [
    "import pandas as pd\n",
    "import os\n",
    "import glob\n",
    "\n",
    "# Replace 'your_input_directory' with the path to your 'Historical_Data_Prices' directory\n",
    "input_directory = 'Historical_Data_Prices'\n",
    "# Replace 'your_output_directory' with the path to your 'Historical_Data_Prices_Cleaned' directory\n",
    "output_directory = 'Historical_Data_Prices_Cleaned'\n",
    "\n",
    "# Create the output directory if it doesn't exist\n",
    "os.makedirs(output_directory, exist_ok=True)\n",
    "\n",
    "# Use glob to find all CSV files in the input directory\n",
    "csv_files = glob.glob(os.path.join(input_directory, '*.csv'))\n",
    "\n",
    "# Process each CSV file\n",
    "for file_path in csv_files:\n",
    "    # Load the CSV file into a DataFrame\n",
    "    df = pd.read_csv(file_path)\n",
    "    \n",
    "    # Check if 'Date' column exists\n",
    "    if 'Date' in df.columns:\n",
    "        # Apply the string split operation to the 'Date' column\n",
    "        df['Date'] = df['Date'].str.split(' ').str[0]\n",
    "        \n",
    "        # Define the new path for the cleaned CSV file\n",
    "        file_name = os.path.basename(file_path)\n",
    "        cleaned_file_path = os.path.join(output_directory, file_name)\n",
    "        \n",
    "        # Save the cleaned DataFrame to a new CSV file in the output directory\n",
    "        df.to_csv(cleaned_file_path, index=False)\n",
    "\n",
    "print(f\"Date cleaning applied to all files. Cleaned files are saved in {output_directory}\")\n"
   ]
  },
  {
   "cell_type": "code",
   "execution_count": null,
   "id": "c29f0fe3-95e5-438d-90a9-0766a3a4aea5",
   "metadata": {},
   "outputs": [],
   "source": []
  }
 ],
 "metadata": {
  "kernelspec": {
   "display_name": "Python 3 (ipykernel)",
   "language": "python",
   "name": "python3"
  },
  "language_info": {
   "codemirror_mode": {
    "name": "ipython",
    "version": 3
   },
   "file_extension": ".py",
   "mimetype": "text/x-python",
   "name": "python",
   "nbconvert_exporter": "python",
   "pygments_lexer": "ipython3",
   "version": "3.8.18"
  }
 },
 "nbformat": 4,
 "nbformat_minor": 5
}
